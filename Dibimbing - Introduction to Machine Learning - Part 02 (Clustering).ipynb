{
  "nbformat": 4,
  "nbformat_minor": 0,
  "metadata": {
    "colab": {
      "provenance": [],
      "include_colab_link": true
    },
    "kernelspec": {
      "name": "python3",
      "display_name": "Python 3"
    },
    "language_info": {
      "name": "python"
    }
  },
  "cells": [
    {
      "cell_type": "markdown",
      "metadata": {
        "id": "view-in-github",
        "colab_type": "text"
      },
      "source": [
        "<a href=\"https://colab.research.google.com/github/dartwinshu/dibimbing-introduction-to-machine-learning/blob/main/Dibimbing%20-%20Introduction%20to%20Machine%20Learning%20-%20Part%2002%20(Clustering).ipynb\" target=\"_parent\"><img src=\"https://colab.research.google.com/assets/colab-badge.svg\" alt=\"Open In Colab\"/></a>"
      ]
    },
    {
      "cell_type": "markdown",
      "source": [
        "# Install & Load Package"
      ],
      "metadata": {
        "id": "Tp4u3D8WdhWQ"
      }
    },
    {
      "cell_type": "code",
      "source": [
        "# install yellowbrick untuk visualisasi klaster dan mencari klaster optimal\n",
        "!pip install yellowbrick"
      ],
      "metadata": {
        "id": "gyl4Qxx-5jk0"
      },
      "execution_count": null,
      "outputs": []
    },
    {
      "cell_type": "code",
      "source": [
        "import numpy as np # untuk manipulasi objek array dan fungsi aritmatika lainnya\n",
        "import pandas as pd # untuk menipulasi objek dataframe\n",
        "import matplotlib.pyplot as plt # untuk visualisasi data\n",
        "import seaborn as sns # untuk visualisasi data yang jauh lebih mudah\n",
        "\n",
        "# untuk melakukan standarisasi pada data numerik\n",
        "from sklearn.preprocessing import StandardScaler\n",
        "# untuk pemodelan k-means\n",
        "from sklearn.cluster import KMeans\n",
        "# untuk mereduksi dimensi\n",
        "from sklearn.decomposition import PCA\n",
        "# untuk visualisasi elbow method\n",
        "from yellowbrick.cluster import KElbowVisualizer\n",
        "# untuk visualisasi silhouette score\n",
        "from yellowbrick.cluster import SilhouetteVisualizer\n",
        "# untuk mencari klaster optimal\n",
        "from yellowbrick.cluster import KElbowVisualizer"
      ],
      "metadata": {
        "id": "zm8aOHXBe9xP"
      },
      "execution_count": null,
      "outputs": []
    },
    {
      "cell_type": "markdown",
      "source": [
        "# Load Dataset"
      ],
      "metadata": {
        "id": "_C-VCCd8fvno"
      }
    },
    {
      "cell_type": "code",
      "source": [
        "raw_data = pd.read_csv(\"https://bit.ly/customer_segmentation_bank_dataset\")"
      ],
      "metadata": {
        "id": "hdWKG9kYfyAD"
      },
      "execution_count": null,
      "outputs": []
    },
    {
      "cell_type": "code",
      "source": [
        "# cek dataset\n",
        "raw_data.head()"
      ],
      "metadata": {
        "id": "g9XtDyGxgWMN"
      },
      "execution_count": null,
      "outputs": []
    },
    {
      "cell_type": "markdown",
      "source": [
        "## Informasi terkait dataset\n",
        "\n",
        "Dataset berikut adalah sekumpulan data yang dikumpulkan dari berbagai wilayah di USoleh sebuah bank yang terdiri dari profil nasabah dan beberapa metrik terkait kegiatan nasabah. Bank ingin memasarkan sebuah layanan terbaru yang diharapkan dapat digunakan oleh nasabah lama. Namun sebelum memasarkan mereka ingin mengetahui profil customer yang akan menjadi target pemasaran. Beberapa variabel yang digunkan dalam analisis diantaranya:\n",
        "\n",
        "- Customer ID\n",
        "- Age\n",
        "- Edu\n",
        "- Years\n",
        "- Income\n",
        "- Card Debt\n",
        "- Other Debt\n",
        "- Defaulted\n",
        "- Address\n",
        "- Debt Income Ratio"
      ],
      "metadata": {
        "id": "XizbwLg_hXM1"
      }
    },
    {
      "cell_type": "markdown",
      "source": [
        "# Data Inspection & Preprocessing"
      ],
      "metadata": {
        "id": "Hk-Y95lFgZh2"
      }
    },
    {
      "cell_type": "code",
      "source": [
        "# cek struktur data\n",
        "raw_data.info()"
      ],
      "metadata": {
        "id": "Xs5fqzTigdXf"
      },
      "execution_count": null,
      "outputs": []
    },
    {
      "cell_type": "code",
      "source": [
        "# cek apakah ada dataset yang hilang\n",
        "raw_data.isna().sum()"
      ],
      "metadata": {
        "id": "njrPL4icgir3"
      },
      "execution_count": null,
      "outputs": []
    },
    {
      "cell_type": "code",
      "source": [
        "# mengecek data yang hilang\n",
        "raw_data[raw_data['Defaulted'].isna()]"
      ],
      "metadata": {
        "id": "kwI5b4kDB1yQ"
      },
      "execution_count": null,
      "outputs": []
    },
    {
      "cell_type": "markdown",
      "source": [
        "Ketika ada nilai yang hilang pada dataset maka sebelum ada perlakuan tertentu untuk mengatasi masalah nilai yang hilang tersebut, diantaranya perlu diketahui apakah:\n",
        "\n",
        "1. Data hilang secara acak, yaitu kasus dimana data yang hilang diketahui sebabnya dan hilangnya data terjadi secara acak. Sebagai contoh beberapa baris data yang memiliki nilai null pada sensor dikarenakan listrik tidak stabil sehingga data tidak terbaca secara teratur.\n",
        "2. Data hilang secara tidak acak, yaitu kasus dimana nilai yang hilang pada data diketahui sebabnya dan tidak terjadi secara acak, biasanya karena disebabkan oleh variabel atau kejadian tertentu. Sebagai contoh, terdapat data bernilai null pada variabel total pembayaran karena pelanggan adalah pelanggan baru yang belum membayar tagihan apapun.\n",
        "3. Data hilang secara acak sebenar-benarnya, yaitu kasus dimana data yang hilang tidak diketahui sama sekali sebab hilangnya dan hal ini terjadi secara acak. \n",
        "\n",
        "Pada kasus di atas kita mengasumsikan bahwa data hilang secara acak sebenar-benarnya. Pada kasus ini kita bisa memilih antara membuang data tersebut atau melakukan imputasi pada data. Namun, kita akan memilih untuk membuang data untuk menyederhanakan pengerjaan."
      ],
      "metadata": {
        "id": "qzNHUw2DFdi3"
      }
    },
    {
      "cell_type": "code",
      "source": [
        "# membuang nilai null dari raw_data\n",
        "raw_data = raw_data[raw_data[\"Defaulted\"].isna() == False]"
      ],
      "metadata": {
        "id": "Wh71B4ONgq1X"
      },
      "execution_count": null,
      "outputs": []
    },
    {
      "cell_type": "code",
      "source": [
        "# cek kembali nilai null pada raw_data\n",
        "raw_data.isna().sum()"
      ],
      "metadata": {
        "id": "tKdR-UfUJuPd"
      },
      "execution_count": null,
      "outputs": []
    },
    {
      "cell_type": "markdown",
      "source": [
        "Selanjutnya kita akan melakukan preprocessing pada data"
      ],
      "metadata": {
        "id": "O8ZDoSzriRQj"
      }
    },
    {
      "cell_type": "code",
      "source": [
        "# membuang variabel 'Address'\n",
        "raw_data = raw_data.drop('Address', axis = 1)\n",
        "\n",
        "# menjadikan customer id sebagai index\n",
        "raw_data = raw_data.set_index('Customer Id')\n",
        "\n",
        "# cek kembali raw_data\n",
        "raw_data.head()"
      ],
      "metadata": {
        "id": "yjOPbsOZi2wU"
      },
      "execution_count": null,
      "outputs": []
    },
    {
      "cell_type": "markdown",
      "source": [
        "Selanjutnya melakukan scaling pada semua data bernilai numerik."
      ],
      "metadata": {
        "id": "s90-2zhfi4W5"
      }
    },
    {
      "cell_type": "code",
      "source": [
        "# lakukan scaling pada data\n",
        "data_for_model = StandardScaler().fit_transform(raw_data)"
      ],
      "metadata": {
        "id": "G90pA9qNg--5"
      },
      "execution_count": null,
      "outputs": []
    },
    {
      "cell_type": "code",
      "source": [
        "# cek data_for_model\n",
        "data_for_model"
      ],
      "metadata": {
        "id": "p3h3IQCIiz0N"
      },
      "execution_count": null,
      "outputs": []
    },
    {
      "cell_type": "markdown",
      "source": [
        "# Modeling"
      ],
      "metadata": {
        "id": "CN3-R8aEcr0z"
      }
    },
    {
      "cell_type": "markdown",
      "source": [
        "Membuat model K-means"
      ],
      "metadata": {
        "id": "tSEHRy1PidVp"
      }
    },
    {
      "cell_type": "code",
      "source": [
        "# menentukan jumlah kelompok data yang akan dibentuk\n",
        "num_clusters = 3\n",
        "\n",
        "# fit k-means model pada data\n",
        "k_means = KMeans(n_clusters=num_clusters, random_state = 1000)\n",
        "k_means.fit(data_for_model)\n",
        "\n",
        "# label cluster\n",
        "labels = k_means.labels_\n",
        "\n",
        "# cek labels\n",
        "print(labels)"
      ],
      "metadata": {
        "id": "7WS5V94Sii0T"
      },
      "execution_count": null,
      "outputs": []
    },
    {
      "cell_type": "markdown",
      "source": [
        "# Post-Modeling Analysis"
      ],
      "metadata": {
        "id": "Ioz8R5Abikzg"
      }
    },
    {
      "cell_type": "code",
      "source": [
        "# membuat kolom 'cluster' pada raw_data\n",
        "raw_data['cluster'] = labels\n",
        "\n",
        "# cek raw_data\n",
        "raw_data.head()"
      ],
      "metadata": {
        "id": "JCfEZwoLiprA"
      },
      "execution_count": null,
      "outputs": []
    },
    {
      "cell_type": "code",
      "source": [
        "# mengecek distribusi age dari tiap cluster\n",
        "sns.boxplot(data = raw_data, x = 'cluster', y = 'Age')"
      ],
      "metadata": {
        "id": "kRCR3ISr21z1"
      },
      "execution_count": null,
      "outputs": []
    },
    {
      "cell_type": "code",
      "source": [
        "# mengecek distribusi Edu dari tiap cluster\n",
        "raw_data.groupby('cluster')['Edu'].value_counts(normalize=True).unstack('Edu').plot.bar(stacked=True)"
      ],
      "metadata": {
        "id": "lWkxO6A4fokJ"
      },
      "execution_count": null,
      "outputs": []
    },
    {
      "cell_type": "code",
      "source": [
        "# mengecek distribusi Years Employed dari tiap klaster\n",
        "sns.boxplot(data = raw_data, x = 'cluster', y = 'Years Employed')"
      ],
      "metadata": {
        "id": "GcaOpta0QkXr"
      },
      "execution_count": null,
      "outputs": []
    },
    {
      "cell_type": "code",
      "source": [
        "# mengecek distribusi Income dari tiap cluster\n",
        "sns.boxplot(data = raw_data, x = 'cluster', y = 'Income')"
      ],
      "metadata": {
        "id": "b1l0lqgqRN9k"
      },
      "execution_count": null,
      "outputs": []
    },
    {
      "cell_type": "code",
      "source": [
        "# mengecek distribusi Card Debt dari tiap cluster\n",
        "sns.boxplot(data = raw_data, x = 'cluster', y = 'Card Debt')"
      ],
      "metadata": {
        "id": "R5NmA9dDRYG2"
      },
      "execution_count": null,
      "outputs": []
    },
    {
      "cell_type": "code",
      "source": [
        "# mengecek distribusi Card Debt dari tiap cluster\n",
        "sns.boxplot(data = raw_data, x = 'cluster', y = 'Other Debt')"
      ],
      "metadata": {
        "id": "CJr8x1AqRYBn"
      },
      "execution_count": null,
      "outputs": []
    },
    {
      "cell_type": "code",
      "source": [
        "# mengecek distribusi Defaulted dari tiap cluster\n",
        "raw_data.groupby('cluster')['Defaulted'].value_counts(normalize=True).unstack('Defaulted').plot.bar(stacked=True)"
      ],
      "metadata": {
        "id": "5p4KhLCyRX-1"
      },
      "execution_count": null,
      "outputs": []
    },
    {
      "cell_type": "code",
      "source": [
        "# mengecek distribusi Defaulted dari tiap cluster\n",
        "sns.boxplot(data = raw_data, x = 'cluster', y = 'DebtIncomeRatio')"
      ],
      "metadata": {
        "id": "f8-UpSq3RX9p"
      },
      "execution_count": null,
      "outputs": []
    },
    {
      "cell_type": "markdown",
      "source": [
        "# Evaluasi Model"
      ],
      "metadata": {
        "id": "f0ZXSDpui0FQ"
      }
    },
    {
      "cell_type": "markdown",
      "source": [
        "Untuk evaluasi model clustering kita dapat menggunakan average silhouette score"
      ],
      "metadata": {
        "id": "HfO9K0GNjhAz"
      }
    },
    {
      "cell_type": "code",
      "source": [
        "visualizer = SilhouetteVisualizer(k_means, colors='yellowbrick')\n",
        "visualizer.fit(data_for_model)\n",
        "visualizer.show()"
      ],
      "metadata": {
        "id": "0MHUTUj4i51H"
      },
      "execution_count": null,
      "outputs": []
    },
    {
      "cell_type": "markdown",
      "source": [
        "Mencari klaster optimal dengan Elbow Method"
      ],
      "metadata": {
        "id": "yWyHpY_8gdYn"
      }
    },
    {
      "cell_type": "code",
      "source": [
        "# Evaluasi model menggunakan decision tree\n",
        "visualizer = KElbowVisualizer(k_means, k=(2,12))\n",
        "visualizer.fit(data_for_model)\n",
        "visualizer.show()"
      ],
      "metadata": {
        "id": "0BB8hhHl4Jc6"
      },
      "execution_count": null,
      "outputs": []
    },
    {
      "cell_type": "code",
      "source": [
        "# menentukan jumlah kelompok data yang akan dibentuk\n",
        "num_clusters = 6\n",
        "\n",
        "# fit k-means model pada data\n",
        "k_means_optimal = KMeans(n_clusters=num_clusters, random_state = 1000)\n",
        "k_means_optimal.fit(data_for_model)\n",
        "\n",
        "# label cluster\n",
        "labels = k_means_optimal.labels_\n",
        "\n",
        "# cek labels\n",
        "print(labels)"
      ],
      "metadata": {
        "id": "McaXXSWCjphm"
      },
      "execution_count": null,
      "outputs": []
    },
    {
      "cell_type": "markdown",
      "source": [
        "Evaluasi kembali model menggunakan silhouette score"
      ],
      "metadata": {
        "id": "nVzuePu3hBbF"
      }
    },
    {
      "cell_type": "code",
      "source": [
        "visualizer = SilhouetteVisualizer(k_means_optimal, colors='yellowbrick')\n",
        "visualizer.fit(data_for_model)\n",
        "visualizer.show()"
      ],
      "metadata": {
        "id": "TSYqE1iukLYp"
      },
      "execution_count": null,
      "outputs": []
    },
    {
      "cell_type": "markdown",
      "source": [
        "Bandingkan dengan model sebelumnya"
      ],
      "metadata": {
        "id": "RtGV7V_-il4f"
      }
    },
    {
      "cell_type": "code",
      "source": [
        "visualizer = SilhouetteVisualizer(k_means, colors='yellowbrick')\n",
        "visualizer.fit(data_for_model)\n",
        "visualizer.show()"
      ],
      "metadata": {
        "id": "G_b4JgnghOfK"
      },
      "execution_count": null,
      "outputs": []
    },
    {
      "cell_type": "markdown",
      "source": [
        "Lakukan post-modeling analysis kembali berdasarkan model optimal"
      ],
      "metadata": {
        "id": "UgcxNMPzjI6r"
      }
    },
    {
      "cell_type": "code",
      "source": [
        "# membuat kolom 'cluster' pada raw_data\n",
        "raw_data['cluster'] = labels\n",
        "\n",
        "# cek raw_data\n",
        "raw_data.head()"
      ],
      "metadata": {
        "id": "vgBXS6bJi3Qn"
      },
      "execution_count": null,
      "outputs": []
    },
    {
      "cell_type": "code",
      "source": [
        "# mengecek distribusi age dari tiap cluster\n",
        "sns.boxplot(data = raw_data, x = 'cluster', y = 'Age')"
      ],
      "metadata": {
        "id": "EnXZTL24jE6m"
      },
      "execution_count": null,
      "outputs": []
    },
    {
      "cell_type": "code",
      "source": [
        "# mengecek distribusi Edu dari tiap cluster\n",
        "raw_data.groupby('cluster')['Edu'].value_counts(normalize=True).unstack('Edu').plot.bar(stacked=True)"
      ],
      "metadata": {
        "id": "tWpAgwzmjIFE"
      },
      "execution_count": null,
      "outputs": []
    },
    {
      "cell_type": "code",
      "source": [
        "# mengecek distribusi Years Employed dari tiap klaster\n",
        "sns.boxplot(data = raw_data, x = 'cluster', y = 'Years Employed')"
      ],
      "metadata": {
        "id": "LlrE77LnjRGv"
      },
      "execution_count": null,
      "outputs": []
    },
    {
      "cell_type": "code",
      "source": [
        "# mengecek distribusi Income dari tiap cluster\n",
        "sns.boxplot(data = raw_data, x = 'cluster', y = 'Income')"
      ],
      "metadata": {
        "id": "vnin0ZEIkRAS"
      },
      "execution_count": null,
      "outputs": []
    },
    {
      "cell_type": "code",
      "source": [
        "# mengecek distribusi Card Debt dari tiap cluster\n",
        "sns.boxplot(data = raw_data, x = 'cluster', y = 'Card Debt')"
      ],
      "metadata": {
        "id": "XnwYWOCOkYrH"
      },
      "execution_count": null,
      "outputs": []
    },
    {
      "cell_type": "code",
      "source": [
        "# mengecek distribusi Card Debt dari tiap cluster\n",
        "sns.boxplot(data = raw_data, x = 'cluster', y = 'Other Debt')"
      ],
      "metadata": {
        "id": "t_jIflmEkbb9"
      },
      "execution_count": null,
      "outputs": []
    },
    {
      "cell_type": "code",
      "source": [
        "# mengecek distribusi Defaulted dari tiap cluster\n",
        "raw_data.groupby('cluster')['Defaulted'].value_counts(normalize=True).unstack('Defaulted').plot.bar(stacked=True)"
      ],
      "metadata": {
        "id": "16cXJxREkeib"
      },
      "execution_count": null,
      "outputs": []
    },
    {
      "cell_type": "code",
      "source": [
        "# mengecek distribusi Defaulted dari tiap cluster\n",
        "sns.boxplot(data = raw_data, x = 'cluster', y = 'DebtIncomeRatio')"
      ],
      "metadata": {
        "id": "TbzoodLmkhw1"
      },
      "execution_count": null,
      "outputs": []
    }
  ]
}