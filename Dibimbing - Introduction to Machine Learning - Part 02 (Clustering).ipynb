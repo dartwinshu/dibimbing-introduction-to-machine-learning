{
  "nbformat": 4,
  "nbformat_minor": 0,
  "metadata": {
    "colab": {
      "provenance": [],
      "include_colab_link": true
    },
    "kernelspec": {
      "name": "python3",
      "display_name": "Python 3"
    },
    "language_info": {
      "name": "python"
    }
  },
  "cells": [
    {
      "cell_type": "markdown",
      "metadata": {
        "id": "view-in-github",
        "colab_type": "text"
      },
      "source": [
        "<a href=\"https://colab.research.google.com/github/dartwinshu/dibimbing-introduction-to-machine-learning/blob/main/Dibimbing%20-%20Introduction%20to%20Machine%20Learning%20-%20Part%2002%20(Clustering).ipynb\" target=\"_parent\"><img src=\"https://colab.research.google.com/assets/colab-badge.svg\" alt=\"Open In Colab\"/></a>"
      ]
    },
    {
      "cell_type": "markdown",
      "source": [
        "# Install & Load Package"
      ],
      "metadata": {
        "id": "Tp4u3D8WdhWQ"
      }
    },
    {
      "cell_type": "code",
      "source": [
        "# install yellowbrick untuk visualisasi klaster dan mencari klaster optimal\n",
        "!pip install yellowbrick"
      ],
      "metadata": {
        "id": "gyl4Qxx-5jk0",
        "outputId": "ecead97f-08d1-4ce6-fe7d-222a83fb5d64",
        "colab": {
          "base_uri": "https://localhost:8080/"
        }
      },
      "execution_count": 19,
      "outputs": [
        {
          "output_type": "stream",
          "name": "stdout",
          "text": [
            "Looking in indexes: https://pypi.org/simple, https://us-python.pkg.dev/colab-wheels/public/simple/\n",
            "Requirement already satisfied: yellowbrick in /usr/local/lib/python3.7/dist-packages (1.5)\n",
            "Requirement already satisfied: numpy>=1.16.0 in /usr/local/lib/python3.7/dist-packages (from yellowbrick) (1.21.6)\n",
            "Requirement already satisfied: cycler>=0.10.0 in /usr/local/lib/python3.7/dist-packages (from yellowbrick) (0.11.0)\n",
            "Requirement already satisfied: scipy>=1.0.0 in /usr/local/lib/python3.7/dist-packages (from yellowbrick) (1.7.3)\n",
            "Requirement already satisfied: matplotlib!=3.0.0,>=2.0.2 in /usr/local/lib/python3.7/dist-packages (from yellowbrick) (3.2.2)\n",
            "Requirement already satisfied: scikit-learn>=1.0.0 in /usr/local/lib/python3.7/dist-packages (from yellowbrick) (1.0.2)\n",
            "Requirement already satisfied: kiwisolver>=1.0.1 in /usr/local/lib/python3.7/dist-packages (from matplotlib!=3.0.0,>=2.0.2->yellowbrick) (1.4.4)\n",
            "Requirement already satisfied: python-dateutil>=2.1 in /usr/local/lib/python3.7/dist-packages (from matplotlib!=3.0.0,>=2.0.2->yellowbrick) (2.8.2)\n",
            "Requirement already satisfied: pyparsing!=2.0.4,!=2.1.2,!=2.1.6,>=2.0.1 in /usr/local/lib/python3.7/dist-packages (from matplotlib!=3.0.0,>=2.0.2->yellowbrick) (3.0.9)\n",
            "Requirement already satisfied: typing-extensions in /usr/local/lib/python3.7/dist-packages (from kiwisolver>=1.0.1->matplotlib!=3.0.0,>=2.0.2->yellowbrick) (4.1.1)\n",
            "Requirement already satisfied: six>=1.5 in /usr/local/lib/python3.7/dist-packages (from python-dateutil>=2.1->matplotlib!=3.0.0,>=2.0.2->yellowbrick) (1.15.0)\n",
            "Requirement already satisfied: threadpoolctl>=2.0.0 in /usr/local/lib/python3.7/dist-packages (from scikit-learn>=1.0.0->yellowbrick) (3.1.0)\n",
            "Requirement already satisfied: joblib>=0.11 in /usr/local/lib/python3.7/dist-packages (from scikit-learn>=1.0.0->yellowbrick) (1.2.0)\n"
          ]
        }
      ]
    },
    {
      "cell_type": "code",
      "source": [
        "import numpy as np # untuk manipulasi objek array dan fungsi aritmatika lainnya\n",
        "import pandas as pd # untuk menipulasi objek dataframe\n",
        "import matplotlib.pyplot as plt # untuk visualisasi data\n",
        "import seaborn as sns # untuk visualisasi data yang jauh lebih mudah\n",
        "\n",
        "# untuk melakukan standarisasi pada data numerik\n",
        "from sklearn.preprocessing import StandardScaler\n",
        "# untuk pemodelan k-means\n",
        "from sklearn.cluster import KMeans\n",
        "# untuk mereduksi dimensi\n",
        "from sklearn.decomposition import PCA\n",
        "# untuk visualisasi elbow method\n",
        "from yellowbrick.cluster import KElbowVisualizer\n",
        "# untuk visualisasi silhouette score\n",
        "from yellowbrick.cluster import SilhouetteVisualizer\n",
        "# untuk mencari klaster optimal\n",
        "from yellowbrick.cluster import KElbowVisualizer"
      ],
      "metadata": {
        "id": "zm8aOHXBe9xP"
      },
      "execution_count": 20,
      "outputs": []
    },
    {
      "cell_type": "markdown",
      "source": [
        "# Load Dataset"
      ],
      "metadata": {
        "id": "_C-VCCd8fvno"
      }
    },
    {
      "cell_type": "code",
      "source": [
        "raw_data = pd.read_csv(\"https://bit.ly/customer_segmentation_bank_dataset\")"
      ],
      "metadata": {
        "id": "hdWKG9kYfyAD"
      },
      "execution_count": 21,
      "outputs": []
    },
    {
      "cell_type": "code",
      "source": [
        "# cek dataset\n",
        "raw_data.head()"
      ],
      "metadata": {
        "id": "g9XtDyGxgWMN",
        "outputId": "08777d9a-4851-479f-ab58-8b2908e181de",
        "colab": {
          "base_uri": "https://localhost:8080/",
          "height": 287
        }
      },
      "execution_count": 22,
      "outputs": [
        {
          "output_type": "execute_result",
          "data": {
            "text/plain": [
              "   Customer Id  Age  Edu  Years Employed  Income  Card Debt  Other Debt  \\\n",
              "0            1   41    2               6      19      0.124       1.073   \n",
              "1            2   47    1              26     100      4.582       8.218   \n",
              "2            3   33    2              10      57      6.111       5.802   \n",
              "3            4   29    2               4      19      0.681       0.516   \n",
              "4            5   47    1              31     253      9.308       8.908   \n",
              "\n",
              "   Defaulted Address  DebtIncomeRatio  \n",
              "0        0.0  NBA001              6.3  \n",
              "1        0.0  NBA021             12.8  \n",
              "2        1.0  NBA013             20.9  \n",
              "3        0.0  NBA009              6.3  \n",
              "4        0.0  NBA008              7.2  "
            ],
            "text/html": [
              "\n",
              "  <div id=\"df-1f297432-0033-46fe-ab2b-0ffe9726787a\">\n",
              "    <div class=\"colab-df-container\">\n",
              "      <div>\n",
              "<style scoped>\n",
              "    .dataframe tbody tr th:only-of-type {\n",
              "        vertical-align: middle;\n",
              "    }\n",
              "\n",
              "    .dataframe tbody tr th {\n",
              "        vertical-align: top;\n",
              "    }\n",
              "\n",
              "    .dataframe thead th {\n",
              "        text-align: right;\n",
              "    }\n",
              "</style>\n",
              "<table border=\"1\" class=\"dataframe\">\n",
              "  <thead>\n",
              "    <tr style=\"text-align: right;\">\n",
              "      <th></th>\n",
              "      <th>Customer Id</th>\n",
              "      <th>Age</th>\n",
              "      <th>Edu</th>\n",
              "      <th>Years Employed</th>\n",
              "      <th>Income</th>\n",
              "      <th>Card Debt</th>\n",
              "      <th>Other Debt</th>\n",
              "      <th>Defaulted</th>\n",
              "      <th>Address</th>\n",
              "      <th>DebtIncomeRatio</th>\n",
              "    </tr>\n",
              "  </thead>\n",
              "  <tbody>\n",
              "    <tr>\n",
              "      <th>0</th>\n",
              "      <td>1</td>\n",
              "      <td>41</td>\n",
              "      <td>2</td>\n",
              "      <td>6</td>\n",
              "      <td>19</td>\n",
              "      <td>0.124</td>\n",
              "      <td>1.073</td>\n",
              "      <td>0.0</td>\n",
              "      <td>NBA001</td>\n",
              "      <td>6.3</td>\n",
              "    </tr>\n",
              "    <tr>\n",
              "      <th>1</th>\n",
              "      <td>2</td>\n",
              "      <td>47</td>\n",
              "      <td>1</td>\n",
              "      <td>26</td>\n",
              "      <td>100</td>\n",
              "      <td>4.582</td>\n",
              "      <td>8.218</td>\n",
              "      <td>0.0</td>\n",
              "      <td>NBA021</td>\n",
              "      <td>12.8</td>\n",
              "    </tr>\n",
              "    <tr>\n",
              "      <th>2</th>\n",
              "      <td>3</td>\n",
              "      <td>33</td>\n",
              "      <td>2</td>\n",
              "      <td>10</td>\n",
              "      <td>57</td>\n",
              "      <td>6.111</td>\n",
              "      <td>5.802</td>\n",
              "      <td>1.0</td>\n",
              "      <td>NBA013</td>\n",
              "      <td>20.9</td>\n",
              "    </tr>\n",
              "    <tr>\n",
              "      <th>3</th>\n",
              "      <td>4</td>\n",
              "      <td>29</td>\n",
              "      <td>2</td>\n",
              "      <td>4</td>\n",
              "      <td>19</td>\n",
              "      <td>0.681</td>\n",
              "      <td>0.516</td>\n",
              "      <td>0.0</td>\n",
              "      <td>NBA009</td>\n",
              "      <td>6.3</td>\n",
              "    </tr>\n",
              "    <tr>\n",
              "      <th>4</th>\n",
              "      <td>5</td>\n",
              "      <td>47</td>\n",
              "      <td>1</td>\n",
              "      <td>31</td>\n",
              "      <td>253</td>\n",
              "      <td>9.308</td>\n",
              "      <td>8.908</td>\n",
              "      <td>0.0</td>\n",
              "      <td>NBA008</td>\n",
              "      <td>7.2</td>\n",
              "    </tr>\n",
              "  </tbody>\n",
              "</table>\n",
              "</div>\n",
              "      <button class=\"colab-df-convert\" onclick=\"convertToInteractive('df-1f297432-0033-46fe-ab2b-0ffe9726787a')\"\n",
              "              title=\"Convert this dataframe to an interactive table.\"\n",
              "              style=\"display:none;\">\n",
              "        \n",
              "  <svg xmlns=\"http://www.w3.org/2000/svg\" height=\"24px\"viewBox=\"0 0 24 24\"\n",
              "       width=\"24px\">\n",
              "    <path d=\"M0 0h24v24H0V0z\" fill=\"none\"/>\n",
              "    <path d=\"M18.56 5.44l.94 2.06.94-2.06 2.06-.94-2.06-.94-.94-2.06-.94 2.06-2.06.94zm-11 1L8.5 8.5l.94-2.06 2.06-.94-2.06-.94L8.5 2.5l-.94 2.06-2.06.94zm10 10l.94 2.06.94-2.06 2.06-.94-2.06-.94-.94-2.06-.94 2.06-2.06.94z\"/><path d=\"M17.41 7.96l-1.37-1.37c-.4-.4-.92-.59-1.43-.59-.52 0-1.04.2-1.43.59L10.3 9.45l-7.72 7.72c-.78.78-.78 2.05 0 2.83L4 21.41c.39.39.9.59 1.41.59.51 0 1.02-.2 1.41-.59l7.78-7.78 2.81-2.81c.8-.78.8-2.07 0-2.86zM5.41 20L4 18.59l7.72-7.72 1.47 1.35L5.41 20z\"/>\n",
              "  </svg>\n",
              "      </button>\n",
              "      \n",
              "  <style>\n",
              "    .colab-df-container {\n",
              "      display:flex;\n",
              "      flex-wrap:wrap;\n",
              "      gap: 12px;\n",
              "    }\n",
              "\n",
              "    .colab-df-convert {\n",
              "      background-color: #E8F0FE;\n",
              "      border: none;\n",
              "      border-radius: 50%;\n",
              "      cursor: pointer;\n",
              "      display: none;\n",
              "      fill: #1967D2;\n",
              "      height: 32px;\n",
              "      padding: 0 0 0 0;\n",
              "      width: 32px;\n",
              "    }\n",
              "\n",
              "    .colab-df-convert:hover {\n",
              "      background-color: #E2EBFA;\n",
              "      box-shadow: 0px 1px 2px rgba(60, 64, 67, 0.3), 0px 1px 3px 1px rgba(60, 64, 67, 0.15);\n",
              "      fill: #174EA6;\n",
              "    }\n",
              "\n",
              "    [theme=dark] .colab-df-convert {\n",
              "      background-color: #3B4455;\n",
              "      fill: #D2E3FC;\n",
              "    }\n",
              "\n",
              "    [theme=dark] .colab-df-convert:hover {\n",
              "      background-color: #434B5C;\n",
              "      box-shadow: 0px 1px 3px 1px rgba(0, 0, 0, 0.15);\n",
              "      filter: drop-shadow(0px 1px 2px rgba(0, 0, 0, 0.3));\n",
              "      fill: #FFFFFF;\n",
              "    }\n",
              "  </style>\n",
              "\n",
              "      <script>\n",
              "        const buttonEl =\n",
              "          document.querySelector('#df-1f297432-0033-46fe-ab2b-0ffe9726787a button.colab-df-convert');\n",
              "        buttonEl.style.display =\n",
              "          google.colab.kernel.accessAllowed ? 'block' : 'none';\n",
              "\n",
              "        async function convertToInteractive(key) {\n",
              "          const element = document.querySelector('#df-1f297432-0033-46fe-ab2b-0ffe9726787a');\n",
              "          const dataTable =\n",
              "            await google.colab.kernel.invokeFunction('convertToInteractive',\n",
              "                                                     [key], {});\n",
              "          if (!dataTable) return;\n",
              "\n",
              "          const docLinkHtml = 'Like what you see? Visit the ' +\n",
              "            '<a target=\"_blank\" href=https://colab.research.google.com/notebooks/data_table.ipynb>data table notebook</a>'\n",
              "            + ' to learn more about interactive tables.';\n",
              "          element.innerHTML = '';\n",
              "          dataTable['output_type'] = 'display_data';\n",
              "          await google.colab.output.renderOutput(dataTable, element);\n",
              "          const docLink = document.createElement('div');\n",
              "          docLink.innerHTML = docLinkHtml;\n",
              "          element.appendChild(docLink);\n",
              "        }\n",
              "      </script>\n",
              "    </div>\n",
              "  </div>\n",
              "  "
            ]
          },
          "metadata": {},
          "execution_count": 22
        }
      ]
    },
    {
      "cell_type": "markdown",
      "source": [
        "## Informasi terkait dataset\n",
        "\n",
        "Dataset berikut adalah sekumpulan data yang dikumpulkan dari berbagai wilayah di USoleh sebuah bank yang terdiri dari profil nasabah dan beberapa metrik terkait kegiatan nasabah. Bank ingin memasarkan sebuah layanan terbaru yang diharapkan dapat digunakan oleh nasabah lama. Namun sebelum memasarkan mereka ingin mengetahui profil customer yang akan menjadi target pemasaran. Beberapa variabel yang digunkan dalam analisis diantaranya:\n",
        "\n",
        "- Customer ID\n",
        "- Age\n",
        "- Edu\n",
        "- Years\n",
        "- Income\n",
        "- Card Debt\n",
        "- Other Debt\n",
        "- Defaulted\n",
        "- Address\n",
        "- Debt Income Ratio"
      ],
      "metadata": {
        "id": "XizbwLg_hXM1"
      }
    },
    {
      "cell_type": "markdown",
      "source": [
        "# Data Inspection & Preprocessing"
      ],
      "metadata": {
        "id": "Hk-Y95lFgZh2"
      }
    },
    {
      "cell_type": "code",
      "source": [
        "# cek struktur data\n",
        "raw_data.info()"
      ],
      "metadata": {
        "id": "Xs5fqzTigdXf",
        "outputId": "004f493f-b7e0-41e0-f806-262243faa70f",
        "colab": {
          "base_uri": "https://localhost:8080/"
        }
      },
      "execution_count": 23,
      "outputs": [
        {
          "output_type": "stream",
          "name": "stdout",
          "text": [
            "<class 'pandas.core.frame.DataFrame'>\n",
            "RangeIndex: 850 entries, 0 to 849\n",
            "Data columns (total 10 columns):\n",
            " #   Column           Non-Null Count  Dtype  \n",
            "---  ------           --------------  -----  \n",
            " 0   Customer Id      850 non-null    int64  \n",
            " 1   Age              850 non-null    int64  \n",
            " 2   Edu              850 non-null    int64  \n",
            " 3   Years Employed   850 non-null    int64  \n",
            " 4   Income           850 non-null    int64  \n",
            " 5   Card Debt        850 non-null    float64\n",
            " 6   Other Debt       850 non-null    float64\n",
            " 7   Defaulted        700 non-null    float64\n",
            " 8   Address          850 non-null    object \n",
            " 9   DebtIncomeRatio  850 non-null    float64\n",
            "dtypes: float64(4), int64(5), object(1)\n",
            "memory usage: 66.5+ KB\n"
          ]
        }
      ]
    },
    {
      "cell_type": "code",
      "source": [
        "# cek apakah ada dataset yang hilang\n",
        "raw_data.isna().sum()"
      ],
      "metadata": {
        "id": "njrPL4icgir3",
        "outputId": "f7bff851-651d-42ca-9405-9e00c578fb65",
        "colab": {
          "base_uri": "https://localhost:8080/"
        }
      },
      "execution_count": 24,
      "outputs": [
        {
          "output_type": "execute_result",
          "data": {
            "text/plain": [
              "Customer Id          0\n",
              "Age                  0\n",
              "Edu                  0\n",
              "Years Employed       0\n",
              "Income               0\n",
              "Card Debt            0\n",
              "Other Debt           0\n",
              "Defaulted          150\n",
              "Address              0\n",
              "DebtIncomeRatio      0\n",
              "dtype: int64"
            ]
          },
          "metadata": {},
          "execution_count": 24
        }
      ]
    },
    {
      "cell_type": "code",
      "source": [
        "# mengecek data yang hilang\n",
        "raw_data[raw_data['Defaulted'].isna()]"
      ],
      "metadata": {
        "id": "kwI5b4kDB1yQ",
        "outputId": "5d26d602-7c81-458b-a67c-2c6491e812fa",
        "colab": {
          "base_uri": "https://localhost:8080/",
          "height": 424
        }
      },
      "execution_count": 25,
      "outputs": [
        {
          "output_type": "execute_result",
          "data": {
            "text/plain": [
              "     Customer Id  Age  Edu  Years Employed  Income  Card Debt  Other Debt  \\\n",
              "5              6   40    1              23      81      0.998       7.831   \n",
              "8              9   26    1               5      18      0.575       2.215   \n",
              "11            12   34    2               9      40      0.374       0.266   \n",
              "13            14   46    1               6      30      1.415       3.865   \n",
              "15            16   24    1               1      16      0.185       1.287   \n",
              "..           ...  ...  ...             ...     ...        ...         ...   \n",
              "818          819   35    2               0      35      2.383       1.957   \n",
              "820          821   37    1               4      24      0.419       2.989   \n",
              "825          826   32    2              12     116      4.027       2.585   \n",
              "835          836   21    3               0      41      2.367       5.628   \n",
              "845          846   27    1               5      26      0.548       1.220   \n",
              "\n",
              "     Defaulted Address  DebtIncomeRatio  \n",
              "5          NaN  NBA016             10.9  \n",
              "8          NaN  NBA006             15.5  \n",
              "11         NaN  NBA003              1.6  \n",
              "13         NaN  NBA019             17.6  \n",
              "15         NaN  NBA005              9.2  \n",
              "..         ...     ...              ...  \n",
              "818        NaN  NBA006             12.4  \n",
              "820        NaN  NBA010             14.2  \n",
              "825        NaN  NBA011              5.7  \n",
              "835        NaN  NBA001             19.5  \n",
              "845        NaN  NBA007              6.8  \n",
              "\n",
              "[150 rows x 10 columns]"
            ],
            "text/html": [
              "\n",
              "  <div id=\"df-72cc0dad-8b33-4bcd-957d-415d864f3b1e\">\n",
              "    <div class=\"colab-df-container\">\n",
              "      <div>\n",
              "<style scoped>\n",
              "    .dataframe tbody tr th:only-of-type {\n",
              "        vertical-align: middle;\n",
              "    }\n",
              "\n",
              "    .dataframe tbody tr th {\n",
              "        vertical-align: top;\n",
              "    }\n",
              "\n",
              "    .dataframe thead th {\n",
              "        text-align: right;\n",
              "    }\n",
              "</style>\n",
              "<table border=\"1\" class=\"dataframe\">\n",
              "  <thead>\n",
              "    <tr style=\"text-align: right;\">\n",
              "      <th></th>\n",
              "      <th>Customer Id</th>\n",
              "      <th>Age</th>\n",
              "      <th>Edu</th>\n",
              "      <th>Years Employed</th>\n",
              "      <th>Income</th>\n",
              "      <th>Card Debt</th>\n",
              "      <th>Other Debt</th>\n",
              "      <th>Defaulted</th>\n",
              "      <th>Address</th>\n",
              "      <th>DebtIncomeRatio</th>\n",
              "    </tr>\n",
              "  </thead>\n",
              "  <tbody>\n",
              "    <tr>\n",
              "      <th>5</th>\n",
              "      <td>6</td>\n",
              "      <td>40</td>\n",
              "      <td>1</td>\n",
              "      <td>23</td>\n",
              "      <td>81</td>\n",
              "      <td>0.998</td>\n",
              "      <td>7.831</td>\n",
              "      <td>NaN</td>\n",
              "      <td>NBA016</td>\n",
              "      <td>10.9</td>\n",
              "    </tr>\n",
              "    <tr>\n",
              "      <th>8</th>\n",
              "      <td>9</td>\n",
              "      <td>26</td>\n",
              "      <td>1</td>\n",
              "      <td>5</td>\n",
              "      <td>18</td>\n",
              "      <td>0.575</td>\n",
              "      <td>2.215</td>\n",
              "      <td>NaN</td>\n",
              "      <td>NBA006</td>\n",
              "      <td>15.5</td>\n",
              "    </tr>\n",
              "    <tr>\n",
              "      <th>11</th>\n",
              "      <td>12</td>\n",
              "      <td>34</td>\n",
              "      <td>2</td>\n",
              "      <td>9</td>\n",
              "      <td>40</td>\n",
              "      <td>0.374</td>\n",
              "      <td>0.266</td>\n",
              "      <td>NaN</td>\n",
              "      <td>NBA003</td>\n",
              "      <td>1.6</td>\n",
              "    </tr>\n",
              "    <tr>\n",
              "      <th>13</th>\n",
              "      <td>14</td>\n",
              "      <td>46</td>\n",
              "      <td>1</td>\n",
              "      <td>6</td>\n",
              "      <td>30</td>\n",
              "      <td>1.415</td>\n",
              "      <td>3.865</td>\n",
              "      <td>NaN</td>\n",
              "      <td>NBA019</td>\n",
              "      <td>17.6</td>\n",
              "    </tr>\n",
              "    <tr>\n",
              "      <th>15</th>\n",
              "      <td>16</td>\n",
              "      <td>24</td>\n",
              "      <td>1</td>\n",
              "      <td>1</td>\n",
              "      <td>16</td>\n",
              "      <td>0.185</td>\n",
              "      <td>1.287</td>\n",
              "      <td>NaN</td>\n",
              "      <td>NBA005</td>\n",
              "      <td>9.2</td>\n",
              "    </tr>\n",
              "    <tr>\n",
              "      <th>...</th>\n",
              "      <td>...</td>\n",
              "      <td>...</td>\n",
              "      <td>...</td>\n",
              "      <td>...</td>\n",
              "      <td>...</td>\n",
              "      <td>...</td>\n",
              "      <td>...</td>\n",
              "      <td>...</td>\n",
              "      <td>...</td>\n",
              "      <td>...</td>\n",
              "    </tr>\n",
              "    <tr>\n",
              "      <th>818</th>\n",
              "      <td>819</td>\n",
              "      <td>35</td>\n",
              "      <td>2</td>\n",
              "      <td>0</td>\n",
              "      <td>35</td>\n",
              "      <td>2.383</td>\n",
              "      <td>1.957</td>\n",
              "      <td>NaN</td>\n",
              "      <td>NBA006</td>\n",
              "      <td>12.4</td>\n",
              "    </tr>\n",
              "    <tr>\n",
              "      <th>820</th>\n",
              "      <td>821</td>\n",
              "      <td>37</td>\n",
              "      <td>1</td>\n",
              "      <td>4</td>\n",
              "      <td>24</td>\n",
              "      <td>0.419</td>\n",
              "      <td>2.989</td>\n",
              "      <td>NaN</td>\n",
              "      <td>NBA010</td>\n",
              "      <td>14.2</td>\n",
              "    </tr>\n",
              "    <tr>\n",
              "      <th>825</th>\n",
              "      <td>826</td>\n",
              "      <td>32</td>\n",
              "      <td>2</td>\n",
              "      <td>12</td>\n",
              "      <td>116</td>\n",
              "      <td>4.027</td>\n",
              "      <td>2.585</td>\n",
              "      <td>NaN</td>\n",
              "      <td>NBA011</td>\n",
              "      <td>5.7</td>\n",
              "    </tr>\n",
              "    <tr>\n",
              "      <th>835</th>\n",
              "      <td>836</td>\n",
              "      <td>21</td>\n",
              "      <td>3</td>\n",
              "      <td>0</td>\n",
              "      <td>41</td>\n",
              "      <td>2.367</td>\n",
              "      <td>5.628</td>\n",
              "      <td>NaN</td>\n",
              "      <td>NBA001</td>\n",
              "      <td>19.5</td>\n",
              "    </tr>\n",
              "    <tr>\n",
              "      <th>845</th>\n",
              "      <td>846</td>\n",
              "      <td>27</td>\n",
              "      <td>1</td>\n",
              "      <td>5</td>\n",
              "      <td>26</td>\n",
              "      <td>0.548</td>\n",
              "      <td>1.220</td>\n",
              "      <td>NaN</td>\n",
              "      <td>NBA007</td>\n",
              "      <td>6.8</td>\n",
              "    </tr>\n",
              "  </tbody>\n",
              "</table>\n",
              "<p>150 rows × 10 columns</p>\n",
              "</div>\n",
              "      <button class=\"colab-df-convert\" onclick=\"convertToInteractive('df-72cc0dad-8b33-4bcd-957d-415d864f3b1e')\"\n",
              "              title=\"Convert this dataframe to an interactive table.\"\n",
              "              style=\"display:none;\">\n",
              "        \n",
              "  <svg xmlns=\"http://www.w3.org/2000/svg\" height=\"24px\"viewBox=\"0 0 24 24\"\n",
              "       width=\"24px\">\n",
              "    <path d=\"M0 0h24v24H0V0z\" fill=\"none\"/>\n",
              "    <path d=\"M18.56 5.44l.94 2.06.94-2.06 2.06-.94-2.06-.94-.94-2.06-.94 2.06-2.06.94zm-11 1L8.5 8.5l.94-2.06 2.06-.94-2.06-.94L8.5 2.5l-.94 2.06-2.06.94zm10 10l.94 2.06.94-2.06 2.06-.94-2.06-.94-.94-2.06-.94 2.06-2.06.94z\"/><path d=\"M17.41 7.96l-1.37-1.37c-.4-.4-.92-.59-1.43-.59-.52 0-1.04.2-1.43.59L10.3 9.45l-7.72 7.72c-.78.78-.78 2.05 0 2.83L4 21.41c.39.39.9.59 1.41.59.51 0 1.02-.2 1.41-.59l7.78-7.78 2.81-2.81c.8-.78.8-2.07 0-2.86zM5.41 20L4 18.59l7.72-7.72 1.47 1.35L5.41 20z\"/>\n",
              "  </svg>\n",
              "      </button>\n",
              "      \n",
              "  <style>\n",
              "    .colab-df-container {\n",
              "      display:flex;\n",
              "      flex-wrap:wrap;\n",
              "      gap: 12px;\n",
              "    }\n",
              "\n",
              "    .colab-df-convert {\n",
              "      background-color: #E8F0FE;\n",
              "      border: none;\n",
              "      border-radius: 50%;\n",
              "      cursor: pointer;\n",
              "      display: none;\n",
              "      fill: #1967D2;\n",
              "      height: 32px;\n",
              "      padding: 0 0 0 0;\n",
              "      width: 32px;\n",
              "    }\n",
              "\n",
              "    .colab-df-convert:hover {\n",
              "      background-color: #E2EBFA;\n",
              "      box-shadow: 0px 1px 2px rgba(60, 64, 67, 0.3), 0px 1px 3px 1px rgba(60, 64, 67, 0.15);\n",
              "      fill: #174EA6;\n",
              "    }\n",
              "\n",
              "    [theme=dark] .colab-df-convert {\n",
              "      background-color: #3B4455;\n",
              "      fill: #D2E3FC;\n",
              "    }\n",
              "\n",
              "    [theme=dark] .colab-df-convert:hover {\n",
              "      background-color: #434B5C;\n",
              "      box-shadow: 0px 1px 3px 1px rgba(0, 0, 0, 0.15);\n",
              "      filter: drop-shadow(0px 1px 2px rgba(0, 0, 0, 0.3));\n",
              "      fill: #FFFFFF;\n",
              "    }\n",
              "  </style>\n",
              "\n",
              "      <script>\n",
              "        const buttonEl =\n",
              "          document.querySelector('#df-72cc0dad-8b33-4bcd-957d-415d864f3b1e button.colab-df-convert');\n",
              "        buttonEl.style.display =\n",
              "          google.colab.kernel.accessAllowed ? 'block' : 'none';\n",
              "\n",
              "        async function convertToInteractive(key) {\n",
              "          const element = document.querySelector('#df-72cc0dad-8b33-4bcd-957d-415d864f3b1e');\n",
              "          const dataTable =\n",
              "            await google.colab.kernel.invokeFunction('convertToInteractive',\n",
              "                                                     [key], {});\n",
              "          if (!dataTable) return;\n",
              "\n",
              "          const docLinkHtml = 'Like what you see? Visit the ' +\n",
              "            '<a target=\"_blank\" href=https://colab.research.google.com/notebooks/data_table.ipynb>data table notebook</a>'\n",
              "            + ' to learn more about interactive tables.';\n",
              "          element.innerHTML = '';\n",
              "          dataTable['output_type'] = 'display_data';\n",
              "          await google.colab.output.renderOutput(dataTable, element);\n",
              "          const docLink = document.createElement('div');\n",
              "          docLink.innerHTML = docLinkHtml;\n",
              "          element.appendChild(docLink);\n",
              "        }\n",
              "      </script>\n",
              "    </div>\n",
              "  </div>\n",
              "  "
            ]
          },
          "metadata": {},
          "execution_count": 25
        }
      ]
    },
    {
      "cell_type": "markdown",
      "source": [
        "Ketika ada nilai yang hilang pada dataset maka sebelum ada perlakuan tertentu untuk mengatasi masalah nilai yang hilang tersebut, diantaranya perlu diketahui apakah:\n",
        "\n",
        "1. Data hilang secara acak, yaitu kasus dimana data yang hilang diketahui sebabnya dan hilangnya data terjadi secara acak. Sebagai contoh beberapa baris data yang memiliki nilai null pada sensor dikarenakan listrik tidak stabil sehingga data tidak terbaca secara teratur.\n",
        "2. Data hilang secara tidak acak, yaitu kasus dimana nilai yang hilang pada data diketahui sebabnya dan tidak terjadi secara acak, biasanya karena disebabkan oleh variabel atau kejadian tertentu. Sebagai contoh, terdapat data bernilai null pada variabel total pembayaran karena pelanggan adalah pelanggan baru yang belum membayar tagihan apapun.\n",
        "3. Data hilang secara acak sebenar-benarnya, yaitu kasus dimana data yang hilang tidak diketahui sama sekali sebab hilangnya dan hal ini terjadi secara acak. \n",
        "\n",
        "Pada kasus di atas kita mengasumsikan bahwa data hilang secara acak sebenar-benarnya. Pada kasus ini kita bisa memilih antara membuang data tersebut atau melakukan imputasi pada data. Namun, kita akan memilih untuk membuang data untuk menyederhanakan pengerjaan."
      ],
      "metadata": {
        "id": "qzNHUw2DFdi3"
      }
    },
    {
      "cell_type": "code",
      "source": [
        "# membuang nilai null dari raw_data\n",
        "raw_data = raw_data[raw_data[\"Defaulted\"].isna() == False]"
      ],
      "metadata": {
        "id": "Wh71B4ONgq1X"
      },
      "execution_count": 26,
      "outputs": []
    },
    {
      "cell_type": "code",
      "source": [
        "# cek kembali nilai null pada raw_data\n",
        "raw_data.isna().sum()"
      ],
      "metadata": {
        "id": "tKdR-UfUJuPd",
        "outputId": "997dfb75-d26f-4f64-8759-ef2c9ac79328",
        "colab": {
          "base_uri": "https://localhost:8080/"
        }
      },
      "execution_count": 27,
      "outputs": [
        {
          "output_type": "execute_result",
          "data": {
            "text/plain": [
              "Customer Id        0\n",
              "Age                0\n",
              "Edu                0\n",
              "Years Employed     0\n",
              "Income             0\n",
              "Card Debt          0\n",
              "Other Debt         0\n",
              "Defaulted          0\n",
              "Address            0\n",
              "DebtIncomeRatio    0\n",
              "dtype: int64"
            ]
          },
          "metadata": {},
          "execution_count": 27
        }
      ]
    },
    {
      "cell_type": "markdown",
      "source": [
        "Selanjutnya kita akan melakukan preprocessing pada data"
      ],
      "metadata": {
        "id": "O8ZDoSzriRQj"
      }
    },
    {
      "cell_type": "code",
      "source": [
        "# membuang variabel 'Address'\n",
        "raw_data = raw_data.drop('Address', axis = 1)\n",
        "\n",
        "# menjadikan customer id sebagai index\n",
        "raw_data = raw_data.set_index('Customer Id')\n",
        "\n",
        "# cek kembali raw_data\n",
        "raw_data.head()"
      ],
      "metadata": {
        "id": "yjOPbsOZi2wU",
        "outputId": "13ad5589-3aa3-42da-c8cf-1198805d4415",
        "colab": {
          "base_uri": "https://localhost:8080/",
          "height": 237
        }
      },
      "execution_count": 28,
      "outputs": [
        {
          "output_type": "execute_result",
          "data": {
            "text/plain": [
              "             Age  Edu  Years Employed  Income  Card Debt  Other Debt  \\\n",
              "Customer Id                                                            \n",
              "1             41    2               6      19      0.124       1.073   \n",
              "2             47    1              26     100      4.582       8.218   \n",
              "3             33    2              10      57      6.111       5.802   \n",
              "4             29    2               4      19      0.681       0.516   \n",
              "5             47    1              31     253      9.308       8.908   \n",
              "\n",
              "             Defaulted  DebtIncomeRatio  \n",
              "Customer Id                              \n",
              "1                  0.0              6.3  \n",
              "2                  0.0             12.8  \n",
              "3                  1.0             20.9  \n",
              "4                  0.0              6.3  \n",
              "5                  0.0              7.2  "
            ],
            "text/html": [
              "\n",
              "  <div id=\"df-2e01f6f9-97b3-4e84-ad35-687db62bbb85\">\n",
              "    <div class=\"colab-df-container\">\n",
              "      <div>\n",
              "<style scoped>\n",
              "    .dataframe tbody tr th:only-of-type {\n",
              "        vertical-align: middle;\n",
              "    }\n",
              "\n",
              "    .dataframe tbody tr th {\n",
              "        vertical-align: top;\n",
              "    }\n",
              "\n",
              "    .dataframe thead th {\n",
              "        text-align: right;\n",
              "    }\n",
              "</style>\n",
              "<table border=\"1\" class=\"dataframe\">\n",
              "  <thead>\n",
              "    <tr style=\"text-align: right;\">\n",
              "      <th></th>\n",
              "      <th>Age</th>\n",
              "      <th>Edu</th>\n",
              "      <th>Years Employed</th>\n",
              "      <th>Income</th>\n",
              "      <th>Card Debt</th>\n",
              "      <th>Other Debt</th>\n",
              "      <th>Defaulted</th>\n",
              "      <th>DebtIncomeRatio</th>\n",
              "    </tr>\n",
              "    <tr>\n",
              "      <th>Customer Id</th>\n",
              "      <th></th>\n",
              "      <th></th>\n",
              "      <th></th>\n",
              "      <th></th>\n",
              "      <th></th>\n",
              "      <th></th>\n",
              "      <th></th>\n",
              "      <th></th>\n",
              "    </tr>\n",
              "  </thead>\n",
              "  <tbody>\n",
              "    <tr>\n",
              "      <th>1</th>\n",
              "      <td>41</td>\n",
              "      <td>2</td>\n",
              "      <td>6</td>\n",
              "      <td>19</td>\n",
              "      <td>0.124</td>\n",
              "      <td>1.073</td>\n",
              "      <td>0.0</td>\n",
              "      <td>6.3</td>\n",
              "    </tr>\n",
              "    <tr>\n",
              "      <th>2</th>\n",
              "      <td>47</td>\n",
              "      <td>1</td>\n",
              "      <td>26</td>\n",
              "      <td>100</td>\n",
              "      <td>4.582</td>\n",
              "      <td>8.218</td>\n",
              "      <td>0.0</td>\n",
              "      <td>12.8</td>\n",
              "    </tr>\n",
              "    <tr>\n",
              "      <th>3</th>\n",
              "      <td>33</td>\n",
              "      <td>2</td>\n",
              "      <td>10</td>\n",
              "      <td>57</td>\n",
              "      <td>6.111</td>\n",
              "      <td>5.802</td>\n",
              "      <td>1.0</td>\n",
              "      <td>20.9</td>\n",
              "    </tr>\n",
              "    <tr>\n",
              "      <th>4</th>\n",
              "      <td>29</td>\n",
              "      <td>2</td>\n",
              "      <td>4</td>\n",
              "      <td>19</td>\n",
              "      <td>0.681</td>\n",
              "      <td>0.516</td>\n",
              "      <td>0.0</td>\n",
              "      <td>6.3</td>\n",
              "    </tr>\n",
              "    <tr>\n",
              "      <th>5</th>\n",
              "      <td>47</td>\n",
              "      <td>1</td>\n",
              "      <td>31</td>\n",
              "      <td>253</td>\n",
              "      <td>9.308</td>\n",
              "      <td>8.908</td>\n",
              "      <td>0.0</td>\n",
              "      <td>7.2</td>\n",
              "    </tr>\n",
              "  </tbody>\n",
              "</table>\n",
              "</div>\n",
              "      <button class=\"colab-df-convert\" onclick=\"convertToInteractive('df-2e01f6f9-97b3-4e84-ad35-687db62bbb85')\"\n",
              "              title=\"Convert this dataframe to an interactive table.\"\n",
              "              style=\"display:none;\">\n",
              "        \n",
              "  <svg xmlns=\"http://www.w3.org/2000/svg\" height=\"24px\"viewBox=\"0 0 24 24\"\n",
              "       width=\"24px\">\n",
              "    <path d=\"M0 0h24v24H0V0z\" fill=\"none\"/>\n",
              "    <path d=\"M18.56 5.44l.94 2.06.94-2.06 2.06-.94-2.06-.94-.94-2.06-.94 2.06-2.06.94zm-11 1L8.5 8.5l.94-2.06 2.06-.94-2.06-.94L8.5 2.5l-.94 2.06-2.06.94zm10 10l.94 2.06.94-2.06 2.06-.94-2.06-.94-.94-2.06-.94 2.06-2.06.94z\"/><path d=\"M17.41 7.96l-1.37-1.37c-.4-.4-.92-.59-1.43-.59-.52 0-1.04.2-1.43.59L10.3 9.45l-7.72 7.72c-.78.78-.78 2.05 0 2.83L4 21.41c.39.39.9.59 1.41.59.51 0 1.02-.2 1.41-.59l7.78-7.78 2.81-2.81c.8-.78.8-2.07 0-2.86zM5.41 20L4 18.59l7.72-7.72 1.47 1.35L5.41 20z\"/>\n",
              "  </svg>\n",
              "      </button>\n",
              "      \n",
              "  <style>\n",
              "    .colab-df-container {\n",
              "      display:flex;\n",
              "      flex-wrap:wrap;\n",
              "      gap: 12px;\n",
              "    }\n",
              "\n",
              "    .colab-df-convert {\n",
              "      background-color: #E8F0FE;\n",
              "      border: none;\n",
              "      border-radius: 50%;\n",
              "      cursor: pointer;\n",
              "      display: none;\n",
              "      fill: #1967D2;\n",
              "      height: 32px;\n",
              "      padding: 0 0 0 0;\n",
              "      width: 32px;\n",
              "    }\n",
              "\n",
              "    .colab-df-convert:hover {\n",
              "      background-color: #E2EBFA;\n",
              "      box-shadow: 0px 1px 2px rgba(60, 64, 67, 0.3), 0px 1px 3px 1px rgba(60, 64, 67, 0.15);\n",
              "      fill: #174EA6;\n",
              "    }\n",
              "\n",
              "    [theme=dark] .colab-df-convert {\n",
              "      background-color: #3B4455;\n",
              "      fill: #D2E3FC;\n",
              "    }\n",
              "\n",
              "    [theme=dark] .colab-df-convert:hover {\n",
              "      background-color: #434B5C;\n",
              "      box-shadow: 0px 1px 3px 1px rgba(0, 0, 0, 0.15);\n",
              "      filter: drop-shadow(0px 1px 2px rgba(0, 0, 0, 0.3));\n",
              "      fill: #FFFFFF;\n",
              "    }\n",
              "  </style>\n",
              "\n",
              "      <script>\n",
              "        const buttonEl =\n",
              "          document.querySelector('#df-2e01f6f9-97b3-4e84-ad35-687db62bbb85 button.colab-df-convert');\n",
              "        buttonEl.style.display =\n",
              "          google.colab.kernel.accessAllowed ? 'block' : 'none';\n",
              "\n",
              "        async function convertToInteractive(key) {\n",
              "          const element = document.querySelector('#df-2e01f6f9-97b3-4e84-ad35-687db62bbb85');\n",
              "          const dataTable =\n",
              "            await google.colab.kernel.invokeFunction('convertToInteractive',\n",
              "                                                     [key], {});\n",
              "          if (!dataTable) return;\n",
              "\n",
              "          const docLinkHtml = 'Like what you see? Visit the ' +\n",
              "            '<a target=\"_blank\" href=https://colab.research.google.com/notebooks/data_table.ipynb>data table notebook</a>'\n",
              "            + ' to learn more about interactive tables.';\n",
              "          element.innerHTML = '';\n",
              "          dataTable['output_type'] = 'display_data';\n",
              "          await google.colab.output.renderOutput(dataTable, element);\n",
              "          const docLink = document.createElement('div');\n",
              "          docLink.innerHTML = docLinkHtml;\n",
              "          element.appendChild(docLink);\n",
              "        }\n",
              "      </script>\n",
              "    </div>\n",
              "  </div>\n",
              "  "
            ]
          },
          "metadata": {},
          "execution_count": 28
        }
      ]
    },
    {
      "cell_type": "markdown",
      "source": [
        "Selanjutnya melakukan scaling pada semua data bernilai numerik."
      ],
      "metadata": {
        "id": "s90-2zhfi4W5"
      }
    },
    {
      "cell_type": "code",
      "source": [
        "# lakukan scaling pada data\n",
        "data_for_model = StandardScaler().fit_transform(raw_data)"
      ],
      "metadata": {
        "id": "G90pA9qNg--5"
      },
      "execution_count": 29,
      "outputs": []
    },
    {
      "cell_type": "code",
      "source": [
        "# cek data_for_model\n",
        "data_for_model"
      ],
      "metadata": {
        "id": "p3h3IQCIiz0N",
        "outputId": "f06ba570-326b-48dc-bf51-e7a2251f7326",
        "colab": {
          "base_uri": "https://localhost:8080/"
        }
      },
      "execution_count": 30,
      "outputs": [
        {
          "output_type": "execute_result",
          "data": {
            "text/plain": [
              "array([[ 0.76830405,  0.29879269, -0.35900652, ..., -0.60428433,\n",
              "        -0.59494973, -0.58052847],\n",
              "       [ 1.51908977, -0.77932527,  2.64702891, ...,  1.5706204 ,\n",
              "        -0.59494973,  0.37222169],\n",
              "       [-0.23274357,  0.29879269,  0.24220057, ...,  0.83520125,\n",
              "         1.68081427,  1.55949495],\n",
              "       ...,\n",
              "       [-1.2337912 ,  2.45502862, -1.26081715, ...,  0.04620852,\n",
              "         1.68081427,  3.39170678],\n",
              "       [-0.35787453, -0.77932527,  0.54280411, ..., -0.71904138,\n",
              "        -0.59494973, -1.07889008],\n",
              "       [ 2.14474454, -0.77932527,  1.1440112 , ...,  0.17648972,\n",
              "        -0.59494973, -0.24340149]])"
            ]
          },
          "metadata": {},
          "execution_count": 30
        }
      ]
    },
    {
      "cell_type": "markdown",
      "source": [
        "# Modeling"
      ],
      "metadata": {
        "id": "CN3-R8aEcr0z"
      }
    },
    {
      "cell_type": "markdown",
      "source": [
        "Membuat model K-means"
      ],
      "metadata": {
        "id": "tSEHRy1PidVp"
      }
    },
    {
      "cell_type": "code",
      "source": [
        "# menentukan jumlah kelompok data yang akan dibentuk\n",
        "num_clusters = 3\n",
        "\n",
        "# fit k-means model pada data\n",
        "k_means = KMeans(n_clusters=num_clusters, random_state = 1000)\n",
        "k_means.fit(data_for_model)\n",
        "\n",
        "# label cluster\n",
        "labels = k_means.labels_\n",
        "\n",
        "# cek labels\n",
        "print(labels)"
      ],
      "metadata": {
        "id": "7WS5V94Sii0T",
        "outputId": "acb080a5-9a24-4154-a0aa-c600706be72d",
        "colab": {
          "base_uri": "https://localhost:8080/"
        }
      },
      "execution_count": 31,
      "outputs": [
        {
          "output_type": "stream",
          "name": "stdout",
          "text": [
            "[2 1 0 2 1 2 2 1 0 2 0 2 2 2 2 0 1 1 2 2 2 2 1 0 2 0 0 2 0 1 0 1 2 2 2 1 1\n",
            " 0 0 0 0 2 2 2 1 2 1 1 2 2 2 0 2 0 2 2 2 2 2 2 2 1 2 0 1 1 0 0 2 2 0 0 2 2\n",
            " 0 2 0 2 0 0 1 2 2 2 2 0 2 0 2 2 1 2 2 2 2 2 2 2 2 2 2 2 2 2 2 2 2 2 0 0 2\n",
            " 2 2 1 2 0 2 2 2 0 2 2 1 0 0 1 2 2 2 2 2 2 2 2 1 2 2 0 2 0 2 2 0 1 0 2 2 1\n",
            " 0 1 2 2 1 0 2 2 1 1 2 1 0 2 0 2 1 2 0 2 2 2 0 0 2 0 1 2 2 2 2 1 2 0 1 2 2\n",
            " 2 1 2 0 1 2 2 2 2 2 1 2 2 2 2 2 1 0 2 0 2 2 2 0 1 0 1 2 2 0 2 2 0 0 0 2 2\n",
            " 2 2 1 1 2 2 1 2 2 0 2 2 0 2 0 1 2 2 2 2 0 2 1 0 2 2 2 2 2 0 0 1 2 1 2 2 0\n",
            " 0 2 2 2 1 0 2 2 0 2 1 2 2 2 0 1 2 2 2 2 2 1 2 2 2 2 2 1 2 2 1 0 2 0 2 2 2\n",
            " 1 1 2 0 2 1 0 0 2 2 0 2 2 2 2 1 2 1 2 2 2 2 1 2 0 2 1 2 2 2 0 2 2 1 0 1 2\n",
            " 2 2 0 0 2 0 1 2 1 2 1 2 0 2 2 1 0 2 1 2 2 2 1 2 2 2 2 1 0 2 2 2 2 1 0 2 2\n",
            " 1 2 0 2 1 2 1 2 2 2 2 2 2 2 1 1 2 1 2 0 2 2 2 0 0 2 2 2 2 2 1 0 0 2 1 2 2\n",
            " 2 0 1 0 0 0 0 2 2 0 2 0 0 2 0 1 2 0 2 0 1 1 2 0 2 0 0 0 2 2 1 2 0 2 2 0 2\n",
            " 0 2 2 2 0 2 1 2 1 2 1 2 0 2 2 2 0 0 2 2 1 2 2 1 2 0 2 0 2 0 0 0 1 0 2 2 0\n",
            " 2 2 2 1 0 0 2 2 2 2 2 0 1 2 1 2 0 2 2 0 2 2 0 0 0 0 2 1 0 0 2 2 2 2 1 0 2\n",
            " 2 2 1 2 1 2 2 1 0 1 1 0 2 2 0 2 1 1 2 1 1 2 2 1 2 2 2 2 2 0 2 2 1 2 2 1 2\n",
            " 2 2 2 2 0 2 2 0 2 2 2 2 0 2 1 2 1 2 2 0 2 0 2 0 0 2 2 1 0 1 2 1 1 2 0 2 1\n",
            " 2 1 2 2 2 1 2 0 2 1 1 2 2 2 2 2 2 2 2 0 2 2 1 2 2 2 2 0 2 2 2 0 1 1 2 2 2\n",
            " 0 2 2 2 0 0 2 0 2 2 2 2 2 2 2 2 2 1 2 2 2 2 2 1 0 0 2 0 2 2 2 1 0 2 2 2 2\n",
            " 1 0 2 0 2 2 0 2 2 2 0 0 1 2 2 2 0 2 2 2 2 2 2 2 2 2 2 2 2 2 2 0 2 1]\n"
          ]
        }
      ]
    },
    {
      "cell_type": "markdown",
      "source": [
        "# Post-Modeling Analysis"
      ],
      "metadata": {
        "id": "Ioz8R5Abikzg"
      }
    },
    {
      "cell_type": "code",
      "source": [
        "# membuat kolom 'cluster' pada raw_data\n",
        "raw_data['cluster'] = labels\n",
        "\n",
        "# cek raw_data\n",
        "raw_data.head()"
      ],
      "metadata": {
        "id": "JCfEZwoLiprA",
        "outputId": "9486aa1a-b0a9-44f0-879a-6dfb19687728",
        "colab": {
          "base_uri": "https://localhost:8080/",
          "height": 237
        }
      },
      "execution_count": 32,
      "outputs": [
        {
          "output_type": "execute_result",
          "data": {
            "text/plain": [
              "             Age  Edu  Years Employed  Income  Card Debt  Other Debt  \\\n",
              "Customer Id                                                            \n",
              "1             41    2               6      19      0.124       1.073   \n",
              "2             47    1              26     100      4.582       8.218   \n",
              "3             33    2              10      57      6.111       5.802   \n",
              "4             29    2               4      19      0.681       0.516   \n",
              "5             47    1              31     253      9.308       8.908   \n",
              "\n",
              "             Defaulted  DebtIncomeRatio  cluster  \n",
              "Customer Id                                       \n",
              "1                  0.0              6.3        2  \n",
              "2                  0.0             12.8        1  \n",
              "3                  1.0             20.9        0  \n",
              "4                  0.0              6.3        2  \n",
              "5                  0.0              7.2        1  "
            ],
            "text/html": [
              "\n",
              "  <div id=\"df-4b7d663e-764c-4648-8964-58feddb7f6d8\">\n",
              "    <div class=\"colab-df-container\">\n",
              "      <div>\n",
              "<style scoped>\n",
              "    .dataframe tbody tr th:only-of-type {\n",
              "        vertical-align: middle;\n",
              "    }\n",
              "\n",
              "    .dataframe tbody tr th {\n",
              "        vertical-align: top;\n",
              "    }\n",
              "\n",
              "    .dataframe thead th {\n",
              "        text-align: right;\n",
              "    }\n",
              "</style>\n",
              "<table border=\"1\" class=\"dataframe\">\n",
              "  <thead>\n",
              "    <tr style=\"text-align: right;\">\n",
              "      <th></th>\n",
              "      <th>Age</th>\n",
              "      <th>Edu</th>\n",
              "      <th>Years Employed</th>\n",
              "      <th>Income</th>\n",
              "      <th>Card Debt</th>\n",
              "      <th>Other Debt</th>\n",
              "      <th>Defaulted</th>\n",
              "      <th>DebtIncomeRatio</th>\n",
              "      <th>cluster</th>\n",
              "    </tr>\n",
              "    <tr>\n",
              "      <th>Customer Id</th>\n",
              "      <th></th>\n",
              "      <th></th>\n",
              "      <th></th>\n",
              "      <th></th>\n",
              "      <th></th>\n",
              "      <th></th>\n",
              "      <th></th>\n",
              "      <th></th>\n",
              "      <th></th>\n",
              "    </tr>\n",
              "  </thead>\n",
              "  <tbody>\n",
              "    <tr>\n",
              "      <th>1</th>\n",
              "      <td>41</td>\n",
              "      <td>2</td>\n",
              "      <td>6</td>\n",
              "      <td>19</td>\n",
              "      <td>0.124</td>\n",
              "      <td>1.073</td>\n",
              "      <td>0.0</td>\n",
              "      <td>6.3</td>\n",
              "      <td>2</td>\n",
              "    </tr>\n",
              "    <tr>\n",
              "      <th>2</th>\n",
              "      <td>47</td>\n",
              "      <td>1</td>\n",
              "      <td>26</td>\n",
              "      <td>100</td>\n",
              "      <td>4.582</td>\n",
              "      <td>8.218</td>\n",
              "      <td>0.0</td>\n",
              "      <td>12.8</td>\n",
              "      <td>1</td>\n",
              "    </tr>\n",
              "    <tr>\n",
              "      <th>3</th>\n",
              "      <td>33</td>\n",
              "      <td>2</td>\n",
              "      <td>10</td>\n",
              "      <td>57</td>\n",
              "      <td>6.111</td>\n",
              "      <td>5.802</td>\n",
              "      <td>1.0</td>\n",
              "      <td>20.9</td>\n",
              "      <td>0</td>\n",
              "    </tr>\n",
              "    <tr>\n",
              "      <th>4</th>\n",
              "      <td>29</td>\n",
              "      <td>2</td>\n",
              "      <td>4</td>\n",
              "      <td>19</td>\n",
              "      <td>0.681</td>\n",
              "      <td>0.516</td>\n",
              "      <td>0.0</td>\n",
              "      <td>6.3</td>\n",
              "      <td>2</td>\n",
              "    </tr>\n",
              "    <tr>\n",
              "      <th>5</th>\n",
              "      <td>47</td>\n",
              "      <td>1</td>\n",
              "      <td>31</td>\n",
              "      <td>253</td>\n",
              "      <td>9.308</td>\n",
              "      <td>8.908</td>\n",
              "      <td>0.0</td>\n",
              "      <td>7.2</td>\n",
              "      <td>1</td>\n",
              "    </tr>\n",
              "  </tbody>\n",
              "</table>\n",
              "</div>\n",
              "      <button class=\"colab-df-convert\" onclick=\"convertToInteractive('df-4b7d663e-764c-4648-8964-58feddb7f6d8')\"\n",
              "              title=\"Convert this dataframe to an interactive table.\"\n",
              "              style=\"display:none;\">\n",
              "        \n",
              "  <svg xmlns=\"http://www.w3.org/2000/svg\" height=\"24px\"viewBox=\"0 0 24 24\"\n",
              "       width=\"24px\">\n",
              "    <path d=\"M0 0h24v24H0V0z\" fill=\"none\"/>\n",
              "    <path d=\"M18.56 5.44l.94 2.06.94-2.06 2.06-.94-2.06-.94-.94-2.06-.94 2.06-2.06.94zm-11 1L8.5 8.5l.94-2.06 2.06-.94-2.06-.94L8.5 2.5l-.94 2.06-2.06.94zm10 10l.94 2.06.94-2.06 2.06-.94-2.06-.94-.94-2.06-.94 2.06-2.06.94z\"/><path d=\"M17.41 7.96l-1.37-1.37c-.4-.4-.92-.59-1.43-.59-.52 0-1.04.2-1.43.59L10.3 9.45l-7.72 7.72c-.78.78-.78 2.05 0 2.83L4 21.41c.39.39.9.59 1.41.59.51 0 1.02-.2 1.41-.59l7.78-7.78 2.81-2.81c.8-.78.8-2.07 0-2.86zM5.41 20L4 18.59l7.72-7.72 1.47 1.35L5.41 20z\"/>\n",
              "  </svg>\n",
              "      </button>\n",
              "      \n",
              "  <style>\n",
              "    .colab-df-container {\n",
              "      display:flex;\n",
              "      flex-wrap:wrap;\n",
              "      gap: 12px;\n",
              "    }\n",
              "\n",
              "    .colab-df-convert {\n",
              "      background-color: #E8F0FE;\n",
              "      border: none;\n",
              "      border-radius: 50%;\n",
              "      cursor: pointer;\n",
              "      display: none;\n",
              "      fill: #1967D2;\n",
              "      height: 32px;\n",
              "      padding: 0 0 0 0;\n",
              "      width: 32px;\n",
              "    }\n",
              "\n",
              "    .colab-df-convert:hover {\n",
              "      background-color: #E2EBFA;\n",
              "      box-shadow: 0px 1px 2px rgba(60, 64, 67, 0.3), 0px 1px 3px 1px rgba(60, 64, 67, 0.15);\n",
              "      fill: #174EA6;\n",
              "    }\n",
              "\n",
              "    [theme=dark] .colab-df-convert {\n",
              "      background-color: #3B4455;\n",
              "      fill: #D2E3FC;\n",
              "    }\n",
              "\n",
              "    [theme=dark] .colab-df-convert:hover {\n",
              "      background-color: #434B5C;\n",
              "      box-shadow: 0px 1px 3px 1px rgba(0, 0, 0, 0.15);\n",
              "      filter: drop-shadow(0px 1px 2px rgba(0, 0, 0, 0.3));\n",
              "      fill: #FFFFFF;\n",
              "    }\n",
              "  </style>\n",
              "\n",
              "      <script>\n",
              "        const buttonEl =\n",
              "          document.querySelector('#df-4b7d663e-764c-4648-8964-58feddb7f6d8 button.colab-df-convert');\n",
              "        buttonEl.style.display =\n",
              "          google.colab.kernel.accessAllowed ? 'block' : 'none';\n",
              "\n",
              "        async function convertToInteractive(key) {\n",
              "          const element = document.querySelector('#df-4b7d663e-764c-4648-8964-58feddb7f6d8');\n",
              "          const dataTable =\n",
              "            await google.colab.kernel.invokeFunction('convertToInteractive',\n",
              "                                                     [key], {});\n",
              "          if (!dataTable) return;\n",
              "\n",
              "          const docLinkHtml = 'Like what you see? Visit the ' +\n",
              "            '<a target=\"_blank\" href=https://colab.research.google.com/notebooks/data_table.ipynb>data table notebook</a>'\n",
              "            + ' to learn more about interactive tables.';\n",
              "          element.innerHTML = '';\n",
              "          dataTable['output_type'] = 'display_data';\n",
              "          await google.colab.output.renderOutput(dataTable, element);\n",
              "          const docLink = document.createElement('div');\n",
              "          docLink.innerHTML = docLinkHtml;\n",
              "          element.appendChild(docLink);\n",
              "        }\n",
              "      </script>\n",
              "    </div>\n",
              "  </div>\n",
              "  "
            ]
          },
          "metadata": {},
          "execution_count": 32
        }
      ]
    },
    {
      "cell_type": "code",
      "source": [
        "# mengecek distribusi age dari tiap cluster\n",
        "sns.boxplot(data = raw_data, x = 'cluster', y = 'Age')"
      ],
      "metadata": {
        "id": "kRCR3ISr21z1",
        "outputId": "c4a6894a-8507-4672-c2ff-5bfb6a770ee6",
        "colab": {
          "base_uri": "https://localhost:8080/",
          "height": 378
        }
      },
      "execution_count": 33,
      "outputs": [
        {
          "output_type": "execute_result",
          "data": {
            "text/plain": [
              "<matplotlib.axes._subplots.AxesSubplot at 0x7f2f9395fbd0>"
            ]
          },
          "metadata": {},
          "execution_count": 33
        },
        {
          "output_type": "display_data",
          "data": {
            "text/plain": [
              "<Figure size 576x396 with 1 Axes>"
            ],
            "image/png": "[encoded data removed]"
          },
          "metadata": {}
        }
      ]
    },
    {
      "cell_type": "code",
      "source": [
        "# mengecek distribusi Edu dari tiap cluster\n",
        "raw_data.groupby('cluster')['Edu'].value_counts(normalize=True).unstack('Edu').plot.bar(stacked=True)"
      ],
      "metadata": {
        "id": "lWkxO6A4fokJ",
        "outputId": "8f421995-2f85-4cc8-cf68-a7c825f53aa9",
        "colab": {
          "base_uri": "https://localhost:8080/",
          "height": 374
        }
      },
      "execution_count": 34,
      "outputs": [
        {
          "output_type": "execute_result",
          "data": {
            "text/plain": [
              "<matplotlib.axes._subplots.AxesSubplot at 0x7f2f92b60cd0>"
            ]
          },
          "metadata": {},
          "execution_count": 34
        },
        {
          "output_type": "display_data",
          "data": {
            "text/plain": [
              "<Figure size 576x396 with 1 Axes>"
            ],
            "image/png": "[encoded data removed]"
          },
          "metadata": {}
        }
      ]
    },
    {
      "cell_type": "code",
      "source": [
        "# mengecek distribusi Years Employed dari tiap klaster\n",
        "sns.boxplot(data = raw_data, x = 'cluster', y = 'Years Employed')"
      ],
      "metadata": {
        "id": "GcaOpta0QkXr",
        "outputId": "ea7cc251-911b-4e89-eb65-6b8b4d2db1f9",
        "colab": {
          "base_uri": "https://localhost:8080/",
          "height": 378
        }
      },
      "execution_count": 35,
      "outputs": [
        {
          "output_type": "execute_result",
          "data": {
            "text/plain": [
              "<matplotlib.axes._subplots.AxesSubplot at 0x7f2f92aad490>"
            ]
          },
          "metadata": {},
          "execution_count": 35
        },
        {
          "output_type": "display_data",
          "data": {
            "text/plain": [
              "<Figure size 576x396 with 1 Axes>"
            ],
            "image/png": "[encoded data removed]"
          },
          "metadata": {}
        }
      ]
    },
    {
      "cell_type": "code",
      "source": [
        "# mengecek distribusi Income dari tiap cluster\n",
        "sns.boxplot(data = raw_data, x = 'cluster', y = 'Income')"
      ],
      "metadata": {
        "id": "b1l0lqgqRN9k",
        "outputId": "83f787fc-ec65-40d5-d33a-139febdcd23b",
        "colab": {
          "base_uri": "https://localhost:8080/",
          "height": 378
        }
      },
      "execution_count": 36,
      "outputs": [
        {
          "output_type": "execute_result",
          "data": {
            "text/plain": [
              "<matplotlib.axes._subplots.AxesSubplot at 0x7f2f92a53310>"
            ]
          },
          "metadata": {},
          "execution_count": 36
        },
        {
          "output_type": "display_data",
          "data": {
            "text/plain": [
              "<Figure size 576x396 with 1 Axes>"
            ],
            "image/png": "[encoded data removed]"
          },
          "metadata": {}
        }
      ]
    },
    {
      "cell_type": "code",
      "source": [
        "# mengecek distribusi Card Debt dari tiap cluster\n",
        "sns.boxplot(data = raw_data, x = 'cluster', y = 'Card Debt')"
      ],
      "metadata": {
        "id": "R5NmA9dDRYG2",
        "outputId": "ec2d30c4-09e1-4133-921e-ff16fc81d620",
        "colab": {
          "base_uri": "https://localhost:8080/",
          "height": 378
        }
      },
      "execution_count": 37,
      "outputs": [
        {
          "output_type": "execute_result",
          "data": {
            "text/plain": [
              "<matplotlib.axes._subplots.AxesSubplot at 0x7f2f9297f450>"
            ]
          },
          "metadata": {},
          "execution_count": 37
        },
        {
          "output_type": "display_data",
          "data": {
            "text/plain": [
              "<Figure size 576x396 with 1 Axes>"
            ],
            "image/png": "[encoded data removed]"
          },
          "metadata": {}
        }
      ]
    },
    {
      "cell_type": "code",
      "source": [
        "# mengecek distribusi Card Debt dari tiap cluster\n",
        "sns.boxplot(data = raw_data, x = 'cluster', y = 'Other Debt')"
      ],
      "metadata": {
        "id": "CJr8x1AqRYBn",
        "outputId": "334f8953-040f-4a6b-831b-ef7683727732",
        "colab": {
          "base_uri": "https://localhost:8080/",
          "height": 378
        }
      },
      "execution_count": 38,
      "outputs": [
        {
          "output_type": "execute_result",
          "data": {
            "text/plain": [
              "<matplotlib.axes._subplots.AxesSubplot at 0x7f2f9290c550>"
            ]
          },
          "metadata": {},
          "execution_count": 38
        },
        {
          "output_type": "display_data",
          "data": {
            "text/plain": [
              "<Figure size 576x396 with 1 Axes>"
            ],
            "image/png": "[encoded data removed]"
          },
          "metadata": {}
        }
      ]
    },
    {
      "cell_type": "code",
      "source": [
        "# mengecek distribusi Defaulted dari tiap cluster\n",
        "raw_data.groupby('cluster')['Defaulted'].value_counts(normalize=True).unstack('Defaulted').plot.bar(stacked=True)"
      ],
      "metadata": {
        "id": "5p4KhLCyRX-1",
        "outputId": "d0a6a53b-fd97-4c61-e4bb-405eb900a92b",
        "colab": {
          "base_uri": "https://localhost:8080/",
          "height": 374
        }
      },
      "execution_count": 39,
      "outputs": [
        {
          "output_type": "execute_result",
          "data": {
            "text/plain": [
              "<matplotlib.axes._subplots.AxesSubplot at 0x7f2f92825110>"
            ]
          },
          "metadata": {},
          "execution_count": 39
        },
        {
          "output_type": "display_data",
          "data": {
            "text/plain": [
              "<Figure size 576x396 with 1 Axes>"
            ],
            "image/png": "[encoded data removed]"
          },
          "metadata": {}
        }
      ]
    },
    {
      "cell_type": "code",
      "source": [
        "# mengecek distribusi Defaulted dari tiap cluster\n",
        "sns.boxplot(data = raw_data, x = 'cluster', y = 'DebtIncomeRatio')"
      ],
      "metadata": {
        "id": "f8-UpSq3RX9p",
        "outputId": "55fbe7f5-38a9-4948-cd59-a27b18be8c7f",
        "colab": {
          "base_uri": "https://localhost:8080/",
          "height": 378
        }
      },
      "execution_count": 40,
      "outputs": [
        {
          "output_type": "execute_result",
          "data": {
            "text/plain": [
              "<matplotlib.axes._subplots.AxesSubplot at 0x7f2f927a6f90>"
            ]
          },
          "metadata": {},
          "execution_count": 40
        },
        {
          "output_type": "display_data",
          "data": {
            "text/plain": [
              "<Figure size 576x396 with 1 Axes>"
            ],
            "image/png": "[encoded data removed]"
          },
          "metadata": {}
        }
      ]
    },
    {
      "cell_type": "markdown",
      "source": [
        "# Evaluasi Model"
      ],
      "metadata": {
        "id": "f0ZXSDpui0FQ"
      }
    },
    {
      "cell_type": "markdown",
      "source": [
        "Untuk evaluasi model clustering kita dapat menggunakan average silhouette score"
      ],
      "metadata": {
        "id": "HfO9K0GNjhAz"
      }
    },
    {
      "cell_type": "code",
      "source": [
        "visualizer = SilhouetteVisualizer(k_means, colors='yellowbrick')\n",
        "visualizer.fit(data_for_model)\n",
        "visualizer.show()"
      ],
      "metadata": {
        "id": "0MHUTUj4i51H",
        "outputId": "f20f38a3-46e4-4354-bb2f-5248650d2fd3",
        "colab": {
          "base_uri": "https://localhost:8080/",
          "height": 0
        }
      },
      "execution_count": 41,
      "outputs": [
        {
          "output_type": "display_data",
          "data": {
            "text/plain": [
              "<Figure size 576x396 with 1 Axes>"
            ],
            "image/png": "[encoded data removed]"
          },
          "metadata": {}
        },
        {
          "output_type": "execute_result",
          "data": {
            "text/plain": [
              "<matplotlib.axes._subplots.AxesSubplot at 0x7f2f92752450>"
            ]
          },
          "metadata": {},
          "execution_count": 41
        }
      ]
    },
    {
      "cell_type": "markdown",
      "source": [
        "Mencari klaster optimal dengan Elbow Method"
      ],
      "metadata": {
        "id": "yWyHpY_8gdYn"
      }
    },
    {
      "cell_type": "code",
      "source": [
        "# Evaluasi model menggunakan decision tree\n",
        "visualizer = KElbowVisualizer(k_means, k=(2,12))\n",
        "visualizer.fit(data_for_model)\n",
        "visualizer.show()"
      ],
      "metadata": {
        "id": "0BB8hhHl4Jc6",
        "outputId": "18988682-a820-4829-d4cf-95e9c2cb79c3",
        "colab": {
          "base_uri": "https://localhost:8080/",
          "height": 0
        }
      },
      "execution_count": 42,
      "outputs": [
        {
          "output_type": "display_data",
          "data": {
            "text/plain": [
              "<Figure size 576x396 with 2 Axes>"
            ],
            "image/png": "[encoded data removed]"
          },
          "metadata": {}
        },
        {
          "output_type": "execute_result",
          "data": {
            "text/plain": [
              "<matplotlib.axes._subplots.AxesSubplot at 0x7f2f8ded5d10>"
            ]
          },
          "metadata": {},
          "execution_count": 42
        }
      ]
    },
    {
      "cell_type": "code",
      "source": [
        "# menentukan jumlah kelompok data yang akan dibentuk\n",
        "num_clusters = 6\n",
        "\n",
        "# fit k-means model pada data\n",
        "k_means_optimal = KMeans(n_clusters=num_clusters, random_state = 1000)\n",
        "k_means_optimal.fit(data_for_model)\n",
        "\n",
        "# label cluster\n",
        "labels = k_means_optimal.labels_\n",
        "\n",
        "# cek labels\n",
        "print(labels)"
      ],
      "metadata": {
        "id": "McaXXSWCjphm",
        "outputId": "0fa1a117-58f1-4fda-c4a6-9c3d438f16b7",
        "colab": {
          "base_uri": "https://localhost:8080/"
        }
      },
      "execution_count": 43,
      "outputs": [
        {
          "output_type": "stream",
          "name": "stdout",
          "text": [
            "[0 5 5 0 4 0 2 1 2 0 3 0 2 0 2 3 1 5 0 1 0 1 5 3 0 3 3 0 3 5 5 2 0 0 0 1 5\n",
            " 3 5 3 3 2 1 1 1 1 1 5 0 0 1 3 0 3 2 2 1 0 0 0 0 5 1 5 1 1 3 3 1 0 3 3 2 0\n",
            " 3 2 3 1 3 3 5 0 0 1 1 2 0 3 0 0 5 0 0 0 2 1 0 0 0 0 0 1 1 0 2 0 2 1 3 3 0\n",
            " 0 0 5 2 3 0 0 0 3 0 1 1 3 3 5 1 0 0 2 2 0 0 2 5 0 2 3 0 3 1 0 3 1 3 0 0 4\n",
            " 3 5 0 0 5 3 1 0 1 4 2 1 3 0 3 0 1 1 2 0 0 0 3 3 1 3 1 0 2 0 0 5 0 2 1 0 0\n",
            " 5 5 0 3 5 0 0 1 0 1 1 2 0 2 0 0 1 3 1 3 0 0 5 2 5 3 5 0 1 3 0 0 3 3 3 0 0\n",
            " 1 0 1 1 0 1 5 0 0 5 0 0 3 0 2 5 1 2 0 0 3 0 5 3 0 0 0 0 1 3 3 5 0 5 0 1 3\n",
            " 3 1 1 1 5 3 0 2 3 0 1 1 2 1 3 5 0 0 2 0 0 4 2 1 0 0 0 5 2 0 1 3 0 2 2 0 1\n",
            " 2 1 1 3 0 1 3 3 0 1 3 0 0 2 0 5 0 1 0 0 0 0 5 1 5 0 1 0 0 0 3 0 0 5 3 5 0\n",
            " 1 5 3 3 1 3 5 1 5 0 1 0 3 2 0 5 3 2 5 0 0 0 5 1 1 1 0 4 3 0 0 1 0 5 3 2 0\n",
            " 5 0 3 0 5 2 4 0 0 0 2 2 0 1 5 1 1 1 1 3 1 0 0 3 2 1 0 0 0 5 5 3 3 0 5 0 1\n",
            " 0 3 4 3 3 3 3 2 1 3 1 3 3 2 3 4 1 3 0 3 5 5 2 3 2 3 3 3 0 5 4 0 3 0 0 3 0\n",
            " 3 1 1 1 3 0 1 0 5 2 1 0 3 0 1 0 3 3 1 0 5 0 0 4 0 3 0 2 0 3 3 1 5 2 1 1 5\n",
            " 0 0 0 5 3 3 0 1 1 0 1 3 5 2 5 2 3 0 0 3 0 0 3 3 3 3 0 5 3 3 0 0 0 0 1 3 1\n",
            " 1 0 5 0 1 0 0 5 3 1 5 3 0 0 3 0 5 1 0 5 2 0 0 1 0 0 1 0 0 3 2 1 4 0 0 1 0\n",
            " 1 0 1 0 3 2 2 3 1 0 0 0 3 0 1 0 5 0 0 3 2 3 0 3 3 1 0 5 3 5 2 5 5 0 3 0 1\n",
            " 1 5 0 0 0 1 0 3 2 1 1 0 0 0 0 2 2 1 0 3 2 1 1 0 0 0 0 3 0 0 0 3 5 5 0 1 0\n",
            " 2 0 0 0 1 3 0 3 1 2 0 1 5 0 0 0 1 5 2 1 0 0 1 5 5 3 2 2 0 0 0 1 3 0 0 0 2\n",
            " 5 3 0 3 0 0 3 0 5 0 2 3 5 0 2 0 5 0 0 2 0 0 0 0 0 2 2 0 0 0 0 3 0 1]\n"
          ]
        }
      ]
    },
    {
      "cell_type": "markdown",
      "source": [
        "Evaluasi kembali model menggunakan silhouette score"
      ],
      "metadata": {
        "id": "nVzuePu3hBbF"
      }
    },
    {
      "cell_type": "code",
      "source": [
        "visualizer = SilhouetteVisualizer(k_means_optimal, colors='yellowbrick')\n",
        "visualizer.fit(data_for_model)\n",
        "visualizer.show()"
      ],
      "metadata": {
        "id": "TSYqE1iukLYp",
        "outputId": "dda83bc9-a09c-4bc5-9d56-6deec48c9c98",
        "colab": {
          "base_uri": "https://localhost:8080/",
          "height": 0
        }
      },
      "execution_count": 44,
      "outputs": [
        {
          "output_type": "display_data",
          "data": {
            "text/plain": [
              "<Figure size 576x396 with 1 Axes>"
            ],
            "image/png": "[encoded data removed]"
          },
          "metadata": {}
        },
        {
          "output_type": "execute_result",
          "data": {
            "text/plain": [
              "<matplotlib.axes._subplots.AxesSubplot at 0x7f2f8dcef7d0>"
            ]
          },
          "metadata": {},
          "execution_count": 44
        }
      ]
    },
    {
      "cell_type": "markdown",
      "source": [
        "Bandingkan dengan model sebelumnya"
      ],
      "metadata": {
        "id": "RtGV7V_-il4f"
      }
    },
    {
      "cell_type": "code",
      "source": [
        "visualizer = SilhouetteVisualizer(k_means, colors='yellowbrick')\n",
        "visualizer.fit(data_for_model)\n",
        "visualizer.show()"
      ],
      "metadata": {
        "id": "G_b4JgnghOfK",
        "outputId": "49f0ac55-1fb9-4222-aa05-be6320a058f3",
        "colab": {
          "base_uri": "https://localhost:8080/",
          "height": 0
        }
      },
      "execution_count": 45,
      "outputs": [
        {
          "output_type": "display_data",
          "data": {
            "text/plain": [
              "<Figure size 576x396 with 1 Axes>"
            ],
            "image/png": "[encoded data removed]"
          },
          "metadata": {}
        },
        {
          "output_type": "execute_result",
          "data": {
            "text/plain": [
              "<matplotlib.axes._subplots.AxesSubplot at 0x7f2f8dc85990>"
            ]
          },
          "metadata": {},
          "execution_count": 45
        }
      ]
    },
    {
      "cell_type": "markdown",
      "source": [
        "Lakukan post-modeling analysis kembali berdasarkan model optimal"
      ],
      "metadata": {
        "id": "UgcxNMPzjI6r"
      }
    },
    {
      "cell_type": "code",
      "source": [
        "# membuat kolom 'cluster' pada raw_data\n",
        "raw_data['cluster'] = labels\n",
        "\n",
        "# cek raw_data\n",
        "raw_data.head()"
      ],
      "metadata": {
        "id": "vgBXS6bJi3Qn",
        "outputId": "6a57035e-bd29-4602-e588-2315a8850ca7",
        "colab": {
          "base_uri": "https://localhost:8080/",
          "height": 0
        }
      },
      "execution_count": 46,
      "outputs": [
        {
          "output_type": "execute_result",
          "data": {
            "text/plain": [
              "             Age  Edu  Years Employed  Income  Card Debt  Other Debt  \\\n",
              "Customer Id                                                            \n",
              "1             41    2               6      19      0.124       1.073   \n",
              "2             47    1              26     100      4.582       8.218   \n",
              "3             33    2              10      57      6.111       5.802   \n",
              "4             29    2               4      19      0.681       0.516   \n",
              "5             47    1              31     253      9.308       8.908   \n",
              "\n",
              "             Defaulted  DebtIncomeRatio  cluster  \n",
              "Customer Id                                       \n",
              "1                  0.0              6.3        0  \n",
              "2                  0.0             12.8        5  \n",
              "3                  1.0             20.9        5  \n",
              "4                  0.0              6.3        0  \n",
              "5                  0.0              7.2        4  "
            ],
            "text/html": [
              "\n",
              "  <div id=\"df-af9f7159-1462-4919-a99b-f517e1007380\">\n",
              "    <div class=\"colab-df-container\">\n",
              "      <div>\n",
              "<style scoped>\n",
              "    .dataframe tbody tr th:only-of-type {\n",
              "        vertical-align: middle;\n",
              "    }\n",
              "\n",
              "    .dataframe tbody tr th {\n",
              "        vertical-align: top;\n",
              "    }\n",
              "\n",
              "    .dataframe thead th {\n",
              "        text-align: right;\n",
              "    }\n",
              "</style>\n",
              "<table border=\"1\" class=\"dataframe\">\n",
              "  <thead>\n",
              "    <tr style=\"text-align: right;\">\n",
              "      <th></th>\n",
              "      <th>Age</th>\n",
              "      <th>Edu</th>\n",
              "      <th>Years Employed</th>\n",
              "      <th>Income</th>\n",
              "      <th>Card Debt</th>\n",
              "      <th>Other Debt</th>\n",
              "      <th>Defaulted</th>\n",
              "      <th>DebtIncomeRatio</th>\n",
              "      <th>cluster</th>\n",
              "    </tr>\n",
              "    <tr>\n",
              "      <th>Customer Id</th>\n",
              "      <th></th>\n",
              "      <th></th>\n",
              "      <th></th>\n",
              "      <th></th>\n",
              "      <th></th>\n",
              "      <th></th>\n",
              "      <th></th>\n",
              "      <th></th>\n",
              "      <th></th>\n",
              "    </tr>\n",
              "  </thead>\n",
              "  <tbody>\n",
              "    <tr>\n",
              "      <th>1</th>\n",
              "      <td>41</td>\n",
              "      <td>2</td>\n",
              "      <td>6</td>\n",
              "      <td>19</td>\n",
              "      <td>0.124</td>\n",
              "      <td>1.073</td>\n",
              "      <td>0.0</td>\n",
              "      <td>6.3</td>\n",
              "      <td>0</td>\n",
              "    </tr>\n",
              "    <tr>\n",
              "      <th>2</th>\n",
              "      <td>47</td>\n",
              "      <td>1</td>\n",
              "      <td>26</td>\n",
              "      <td>100</td>\n",
              "      <td>4.582</td>\n",
              "      <td>8.218</td>\n",
              "      <td>0.0</td>\n",
              "      <td>12.8</td>\n",
              "      <td>5</td>\n",
              "    </tr>\n",
              "    <tr>\n",
              "      <th>3</th>\n",
              "      <td>33</td>\n",
              "      <td>2</td>\n",
              "      <td>10</td>\n",
              "      <td>57</td>\n",
              "      <td>6.111</td>\n",
              "      <td>5.802</td>\n",
              "      <td>1.0</td>\n",
              "      <td>20.9</td>\n",
              "      <td>5</td>\n",
              "    </tr>\n",
              "    <tr>\n",
              "      <th>4</th>\n",
              "      <td>29</td>\n",
              "      <td>2</td>\n",
              "      <td>4</td>\n",
              "      <td>19</td>\n",
              "      <td>0.681</td>\n",
              "      <td>0.516</td>\n",
              "      <td>0.0</td>\n",
              "      <td>6.3</td>\n",
              "      <td>0</td>\n",
              "    </tr>\n",
              "    <tr>\n",
              "      <th>5</th>\n",
              "      <td>47</td>\n",
              "      <td>1</td>\n",
              "      <td>31</td>\n",
              "      <td>253</td>\n",
              "      <td>9.308</td>\n",
              "      <td>8.908</td>\n",
              "      <td>0.0</td>\n",
              "      <td>7.2</td>\n",
              "      <td>4</td>\n",
              "    </tr>\n",
              "  </tbody>\n",
              "</table>\n",
              "</div>\n",
              "      <button class=\"colab-df-convert\" onclick=\"convertToInteractive('df-af9f7159-1462-4919-a99b-f517e1007380')\"\n",
              "              title=\"Convert this dataframe to an interactive table.\"\n",
              "              style=\"display:none;\">\n",
              "        \n",
              "  <svg xmlns=\"http://www.w3.org/2000/svg\" height=\"24px\"viewBox=\"0 0 24 24\"\n",
              "       width=\"24px\">\n",
              "    <path d=\"M0 0h24v24H0V0z\" fill=\"none\"/>\n",
              "    <path d=\"M18.56 5.44l.94 2.06.94-2.06 2.06-.94-2.06-.94-.94-2.06-.94 2.06-2.06.94zm-11 1L8.5 8.5l.94-2.06 2.06-.94-2.06-.94L8.5 2.5l-.94 2.06-2.06.94zm10 10l.94 2.06.94-2.06 2.06-.94-2.06-.94-.94-2.06-.94 2.06-2.06.94z\"/><path d=\"M17.41 7.96l-1.37-1.37c-.4-.4-.92-.59-1.43-.59-.52 0-1.04.2-1.43.59L10.3 9.45l-7.72 7.72c-.78.78-.78 2.05 0 2.83L4 21.41c.39.39.9.59 1.41.59.51 0 1.02-.2 1.41-.59l7.78-7.78 2.81-2.81c.8-.78.8-2.07 0-2.86zM5.41 20L4 18.59l7.72-7.72 1.47 1.35L5.41 20z\"/>\n",
              "  </svg>\n",
              "      </button>\n",
              "      \n",
              "  <style>\n",
              "    .colab-df-container {\n",
              "      display:flex;\n",
              "      flex-wrap:wrap;\n",
              "      gap: 12px;\n",
              "    }\n",
              "\n",
              "    .colab-df-convert {\n",
              "      background-color: #E8F0FE;\n",
              "      border: none;\n",
              "      border-radius: 50%;\n",
              "      cursor: pointer;\n",
              "      display: none;\n",
              "      fill: #1967D2;\n",
              "      height: 32px;\n",
              "      padding: 0 0 0 0;\n",
              "      width: 32px;\n",
              "    }\n",
              "\n",
              "    .colab-df-convert:hover {\n",
              "      background-color: #E2EBFA;\n",
              "      box-shadow: 0px 1px 2px rgba(60, 64, 67, 0.3), 0px 1px 3px 1px rgba(60, 64, 67, 0.15);\n",
              "      fill: #174EA6;\n",
              "    }\n",
              "\n",
              "    [theme=dark] .colab-df-convert {\n",
              "      background-color: #3B4455;\n",
              "      fill: #D2E3FC;\n",
              "    }\n",
              "\n",
              "    [theme=dark] .colab-df-convert:hover {\n",
              "      background-color: #434B5C;\n",
              "      box-shadow: 0px 1px 3px 1px rgba(0, 0, 0, 0.15);\n",
              "      filter: drop-shadow(0px 1px 2px rgba(0, 0, 0, 0.3));\n",
              "      fill: #FFFFFF;\n",
              "    }\n",
              "  </style>\n",
              "\n",
              "      <script>\n",
              "        const buttonEl =\n",
              "          document.querySelector('#df-af9f7159-1462-4919-a99b-f517e1007380 button.colab-df-convert');\n",
              "        buttonEl.style.display =\n",
              "          google.colab.kernel.accessAllowed ? 'block' : 'none';\n",
              "\n",
              "        async function convertToInteractive(key) {\n",
              "          const element = document.querySelector('#df-af9f7159-1462-4919-a99b-f517e1007380');\n",
              "          const dataTable =\n",
              "            await google.colab.kernel.invokeFunction('convertToInteractive',\n",
              "                                                     [key], {});\n",
              "          if (!dataTable) return;\n",
              "\n",
              "          const docLinkHtml = 'Like what you see? Visit the ' +\n",
              "            '<a target=\"_blank\" href=https://colab.research.google.com/notebooks/data_table.ipynb>data table notebook</a>'\n",
              "            + ' to learn more about interactive tables.';\n",
              "          element.innerHTML = '';\n",
              "          dataTable['output_type'] = 'display_data';\n",
              "          await google.colab.output.renderOutput(dataTable, element);\n",
              "          const docLink = document.createElement('div');\n",
              "          docLink.innerHTML = docLinkHtml;\n",
              "          element.appendChild(docLink);\n",
              "        }\n",
              "      </script>\n",
              "    </div>\n",
              "  </div>\n",
              "  "
            ]
          },
          "metadata": {},
          "execution_count": 46
        }
      ]
    },
    {
      "cell_type": "code",
      "source": [
        "# mengecek distribusi age dari tiap cluster\n",
        "sns.boxplot(data = raw_data, x = 'cluster', y = 'Age')"
      ],
      "metadata": {
        "id": "EnXZTL24jE6m",
        "outputId": "fafaa1d8-02a7-4ff0-fbba-18bab18ee8e2",
        "colab": {
          "base_uri": "https://localhost:8080/",
          "height": 0
        }
      },
      "execution_count": 47,
      "outputs": [
        {
          "output_type": "execute_result",
          "data": {
            "text/plain": [
              "<matplotlib.axes._subplots.AxesSubplot at 0x7f2f8dbb0050>"
            ]
          },
          "metadata": {},
          "execution_count": 47
        },
        {
          "output_type": "display_data",
          "data": {
            "text/plain": [
              "<Figure size 576x396 with 1 Axes>"
            ],
            "image/png": "[encoded data removed]"
          },
          "metadata": {}
        }
      ]
    },
    {
      "cell_type": "code",
      "source": [
        "# mengecek distribusi Edu dari tiap cluster\n",
        "raw_data.groupby('cluster')['Edu'].value_counts(normalize=True).unstack('Edu').plot.bar(stacked=True)"
      ],
      "metadata": {
        "id": "tWpAgwzmjIFE",
        "outputId": "0e732dba-c973-4ec1-df12-772fc720205f",
        "colab": {
          "base_uri": "https://localhost:8080/",
          "height": 0
        }
      },
      "execution_count": 48,
      "outputs": [
        {
          "output_type": "execute_result",
          "data": {
            "text/plain": [
              "<matplotlib.axes._subplots.AxesSubplot at 0x7f2f8db13750>"
            ]
          },
          "metadata": {},
          "execution_count": 48
        },
        {
          "output_type": "display_data",
          "data": {
            "text/plain": [
              "<Figure size 576x396 with 1 Axes>"
            ],
            "image/png": "[encoded data removed]"
          },
          "metadata": {}
        }
      ]
    },
    {
      "cell_type": "code",
      "source": [
        "# mengecek distribusi Years Employed dari tiap klaster\n",
        "sns.boxplot(data = raw_data, x = 'cluster', y = 'Years Employed')"
      ],
      "metadata": {
        "id": "LlrE77LnjRGv",
        "outputId": "2e66f5b8-a75a-497e-d75a-1e613f0cb779",
        "colab": {
          "base_uri": "https://localhost:8080/",
          "height": 0
        }
      },
      "execution_count": 49,
      "outputs": [
        {
          "output_type": "execute_result",
          "data": {
            "text/plain": [
              "<matplotlib.axes._subplots.AxesSubplot at 0x7f2f8db16b90>"
            ]
          },
          "metadata": {},
          "execution_count": 49
        },
        {
          "output_type": "display_data",
          "data": {
            "text/plain": [
              "<Figure size 576x396 with 1 Axes>"
            ],
            "image/png": "[encoded data removed]"
          },
          "metadata": {}
        }
      ]
    },
    {
      "cell_type": "code",
      "source": [
        "# mengecek distribusi Income dari tiap cluster\n",
        "sns.boxplot(data = raw_data, x = 'cluster', y = 'Income')"
      ],
      "metadata": {
        "id": "vnin0ZEIkRAS",
        "outputId": "fb39b9d0-b701-4998-be40-0f6e3db8accd",
        "colab": {
          "base_uri": "https://localhost:8080/",
          "height": 0
        }
      },
      "execution_count": 50,
      "outputs": [
        {
          "output_type": "execute_result",
          "data": {
            "text/plain": [
              "<matplotlib.axes._subplots.AxesSubplot at 0x7f2f8d8db890>"
            ]
          },
          "metadata": {},
          "execution_count": 50
        },
        {
          "output_type": "display_data",
          "data": {
            "text/plain": [
              "<Figure size 576x396 with 1 Axes>"
            ],
            "image/png": "[encoded data removed]"
          },
          "metadata": {}
        }
      ]
    },
    {
      "cell_type": "code",
      "source": [
        "# mengecek distribusi Card Debt dari tiap cluster\n",
        "sns.boxplot(data = raw_data, x = 'cluster', y = 'Card Debt')"
      ],
      "metadata": {
        "id": "XnwYWOCOkYrH",
        "outputId": "da554f9a-d493-4b6b-bdd7-9bb7fa593140",
        "colab": {
          "base_uri": "https://localhost:8080/",
          "height": 0
        }
      },
      "execution_count": 51,
      "outputs": [
        {
          "output_type": "execute_result",
          "data": {
            "text/plain": [
              "<matplotlib.axes._subplots.AxesSubplot at 0x7f2f8d826410>"
            ]
          },
          "metadata": {},
          "execution_count": 51
        },
        {
          "output_type": "display_data",
          "data": {
            "text/plain": [
              "<Figure size 576x396 with 1 Axes>"
            ],
            "image/png": "[encoded data removed]"
          },
          "metadata": {}
        }
      ]
    },
    {
      "cell_type": "code",
      "source": [
        "# mengecek distribusi Card Debt dari tiap cluster\n",
        "sns.boxplot(data = raw_data, x = 'cluster', y = 'Other Debt')"
      ],
      "metadata": {
        "id": "t_jIflmEkbb9",
        "outputId": "e5eb14ca-3c86-4cb4-cf28-9daa52b08dbf",
        "colab": {
          "base_uri": "https://localhost:8080/",
          "height": 0
        }
      },
      "execution_count": 52,
      "outputs": [
        {
          "output_type": "execute_result",
          "data": {
            "text/plain": [
              "<matplotlib.axes._subplots.AxesSubplot at 0x7f2f8d783a50>"
            ]
          },
          "metadata": {},
          "execution_count": 52
        },
        {
          "output_type": "display_data",
          "data": {
            "text/plain": [
              "<Figure size 576x396 with 1 Axes>"
            ],
            "image/png": "[encoded data removed]"
          },
          "metadata": {}
        }
      ]
    },
    {
      "cell_type": "code",
      "source": [
        "# mengecek distribusi Defaulted dari tiap cluster\n",
        "raw_data.groupby('cluster')['Defaulted'].value_counts(normalize=True).unstack('Defaulted').plot.bar(stacked=True)"
      ],
      "metadata": {
        "id": "16cXJxREkeib",
        "outputId": "ec4a2dc5-ef43-4fd5-ce09-ef0b7ef70e59",
        "colab": {
          "base_uri": "https://localhost:8080/",
          "height": 0
        }
      },
      "execution_count": 53,
      "outputs": [
        {
          "output_type": "execute_result",
          "data": {
            "text/plain": [
              "<matplotlib.axes._subplots.AxesSubplot at 0x7f2f8d9367d0>"
            ]
          },
          "metadata": {},
          "execution_count": 53
        },
        {
          "output_type": "display_data",
          "data": {
            "text/plain": [
              "<Figure size 576x396 with 1 Axes>"
            ],
            "image/png": "[encoded data removed]"
          },
          "metadata": {}
        }
      ]
    },
    {
      "cell_type": "code",
      "source": [
        "# mengecek distribusi Defaulted dari tiap cluster\n",
        "sns.boxplot(data = raw_data, x = 'cluster', y = 'DebtIncomeRatio')"
      ],
      "metadata": {
        "id": "TbzoodLmkhw1",
        "outputId": "c76a206c-2002-47e6-cd7c-53e6497d4aec",
        "colab": {
          "base_uri": "https://localhost:8080/",
          "height": 0
        }
      },
      "execution_count": 54,
      "outputs": [
        {
          "output_type": "execute_result",
          "data": {
            "text/plain": [
              "<matplotlib.axes._subplots.AxesSubplot at 0x7f2f8d67e6d0>"
            ]
          },
          "metadata": {},
          "execution_count": 54
        },
        {
          "output_type": "display_data",
          "data": {
            "text/plain": [
              "<Figure size 576x396 with 1 Axes>"
            ],
            "image/png": "[encoded data removed]"
          },
          "metadata": {}
        }
      ]
    }
  ]
}